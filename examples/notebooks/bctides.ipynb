{
 "cells": [
  {
   "cell_type": "code",
   "execution_count": 1,
   "metadata": {},
   "outputs": [],
   "source": [
    "from pycaz.schism.bctides import read_bctides\n",
    "bctides = read_bctides('/run/media/khan/Workbench/yass2021/model/bctides.in.2.template')"
   ]
  },
  {
   "cell_type": "code",
   "execution_count": 2,
   "metadata": {},
   "outputs": [
    {
     "data": {
      "text/plain": [
       "dict_keys(['header', 'potential', 'tidefr', 'open_bnds'])"
      ]
     },
     "execution_count": 2,
     "metadata": {},
     "output_type": "execute_result"
    }
   ],
   "source": [
    "bctides.keys()"
   ]
  },
  {
   "cell_type": "code",
   "execution_count": 19,
   "metadata": {},
   "outputs": [
    {
     "data": {
      "text/plain": [
       "{'header': 'Loren ipsum',\n",
       " 'potential': {'ntip': 0, 'tip_dp': 0, 'const': {}},\n",
       " 'tidefr': {'nbfr': 0, 'const': {}},\n",
       " 'open_bnds': {}}"
      ]
     },
     "execution_count": 19,
     "metadata": {},
     "output_type": "execute_result"
    }
   ],
   "source": [
    "# one can create a empty bctides using the class\n",
    "from pycaz.schism.bctides import Bctides\n",
    "Bctides(header='Loren ipsum')"
   ]
  },
  {
   "cell_type": "code",
   "execution_count": 5,
   "metadata": {},
   "outputs": [
    {
     "name": "stdout",
     "output_type": "stream",
     "text": [
      "10.00 days run starting from 2021-05-20 00:00:00 UTC\n"
     ]
    }
   ],
   "source": [
    "# we can update the bctide using a Tidefac object\n",
    "from pycaz.schism.tidefac import read_tidefacout\n",
    "fname = \"/run/media/khan/Workbench/yass2021/model/tide_fac.out\"\n",
    "tidefac = read_tidefacout(fname)\n",
    "tidefac.describe()"
   ]
  },
  {
   "cell_type": "code",
   "execution_count": 18,
   "metadata": {},
   "outputs": [
    {
     "name": "stdout",
     "output_type": "stream",
     "text": [
      "Updating tidal potential...\n",
      "\t2N2 -> Updated\n",
      "\tK1 -> Updated\n",
      "\tK2 -> Updated\n",
      "\tL2 -> Updated\n",
      "\tM2 -> Updated\n",
      "\tMU2 -> Updated\n",
      "\tN2 -> Updated\n",
      "\tNU2 -> Updated\n",
      "\tO1 -> Updated\n",
      "\tP1 -> Updated\n",
      "\tQ1 -> Updated\n",
      "\tS2 -> Updated\n",
      "\tT2 -> Updated\n",
      "Updating tidal constituents...\n",
      "\tM2 -> Updated\n",
      "\tM3 -> Updated\n",
      "\tM4 -> Updated\n",
      "\tM6 -> Updated\n",
      "\tM8 -> Updated\n",
      "\tMF -> Updated\n",
      "\tMM -> Updated\n",
      "\tMN4 -> Updated\n",
      "\tMS4 -> Updated\n",
      "\tMSF -> Updated\n",
      "\tMU2 -> Updated\n",
      "\tN2 -> Updated\n",
      "\tNU2 -> Updated\n",
      "\tO1 -> Updated\n",
      "\tP1 -> Updated\n",
      "\tQ1 -> Updated\n",
      "\tR2 -> Updated\n",
      "\tS1 -> Updated\n",
      "\tS2 -> Updated\n",
      "\tS4 -> Updated\n",
      "\tSSA -> Updated\n",
      "\tT2 -> Updated\n",
      "\tK2 -> Updated\n",
      "\tK1 -> Updated\n",
      "\tJ1 -> Updated\n",
      "\t2N2 -> Updated\n",
      "\tSA -> Not updated\n"
     ]
    },
    {
     "data": {
      "text/plain": [
       "'10.00 days run starting from 2021-05-20 00:00:00 UTC'"
      ]
     },
     "execution_count": 18,
     "metadata": {},
     "output_type": "execute_result"
    }
   ],
   "source": [
    "bctides.update_nodal(tidefac)\n",
    "bctides.header # header is updated from the tidefac"
   ]
  },
  {
   "cell_type": "code",
   "execution_count": 9,
   "metadata": {},
   "outputs": [
    {
     "name": "stdout",
     "output_type": "stream",
     "text": [
      "10.00 days run starting from 2021-05-20 00:00:00 UTC\n",
      "For depth > 0.0 , 13 const for tidal potential ['2N2', 'K1', 'K2', 'L2', 'M2', 'MU2', 'N2', 'NU2', 'O1', 'P1', 'Q1', 'S2', 'T2']\n",
      "27 tidal const for BC: ['M2', 'M3', 'M4', 'M6', 'M8', 'MF', 'MM', 'MN4', 'MS4', 'MSF', 'MU2', 'N2', 'NU2', 'O1', 'P1', 'Q1', 'R2', 'S1', 'S2', 'S4', 'SSA', 'T2', 'K2', 'K1', 'J1', '2N2', 'SA']\n",
      "7 open boundaries\n",
      "Boundary 1 [1] - iettype: 3, ifltype: 0, itetype: 0, isatype: 0\n",
      "Boundary 2 [2] - iettype: 0, ifltype: 1, itetype: 0, isatype: 0\n",
      "Boundary 3 [3] - iettype: 0, ifltype: -1, itetype: 0, isatype: 0\n",
      "Boundary 4 [4] - iettype: 0, ifltype: 1, itetype: 0, isatype: 0\n",
      "Boundary 5 [5] - iettype: 0, ifltype: 1, itetype: 0, isatype: 0\n",
      "Boundary 6 [6] - iettype: 0, ifltype: 1, itetype: 0, isatype: 0\n",
      "Boundary 7 [7] - iettype: 0, ifltype: 1, itetype: 0, isatype: 0\n"
     ]
    }
   ],
   "source": [
    "bctides.describe()"
   ]
  },
  {
   "cell_type": "code",
   "execution_count": 12,
   "metadata": {},
   "outputs": [],
   "source": [
    "# Bctide file can be written using write command \n",
    "bctides.write('bctides.in', replace=True)"
   ]
  },
  {
   "cell_type": "code",
   "execution_count": 16,
   "metadata": {},
   "outputs": [],
   "source": [
    "# another way is to use the write_bctides function\n",
    "# default is set to not replace the file if exists and throw an exception\n",
    "from pycaz.schism.bctides import write_bctides\n",
    "write_bctides(bctides, fname='bctides.in', replace=True)"
   ]
  }
 ],
 "metadata": {
  "interpreter": {
   "hash": "eb4237e3bcb53fe0050214670432f8666a16d38c9ac0b08bc9b27fb237db29e1"
  },
  "kernelspec": {
   "display_name": "Python 3.7.11 ('pycaz')",
   "language": "python",
   "name": "python3"
  },
  "language_info": {
   "codemirror_mode": {
    "name": "ipython",
    "version": 3
   },
   "file_extension": ".py",
   "mimetype": "text/x-python",
   "name": "python",
   "nbconvert_exporter": "python",
   "pygments_lexer": "ipython3",
   "version": "3.7.11"
  },
  "orig_nbformat": 4
 },
 "nbformat": 4,
 "nbformat_minor": 2
}
