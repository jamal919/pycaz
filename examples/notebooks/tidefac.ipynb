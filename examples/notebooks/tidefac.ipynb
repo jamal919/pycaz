{
 "cells": [
  {
   "cell_type": "code",
   "execution_count": 2,
   "metadata": {},
   "outputs": [],
   "source": [
    "from pycaz.schism.tidefac import read_tidefacout"
   ]
  },
  {
   "cell_type": "code",
   "execution_count": 3,
   "metadata": {},
   "outputs": [
    {
     "data": {
      "text/plain": [
       "{'year': 2021.0,\n",
       " 'month': 5,\n",
       " 'day': 20,\n",
       " 'hour': 0,\n",
       " 'rnday': 10.0,\n",
       " 'const': {'M2': {'nf': 0.98816, 'ear': 154.91},\n",
       "  'M3': {'nf': 0.98238, 'ear': 232.37},\n",
       "  'M4': {'nf': 0.97646, 'ear': 309.82},\n",
       "  'M6': {'nf': 0.9649, 'ear': 104.73},\n",
       "  'M8': {'nf': 0.95348, 'ear': 259.65},\n",
       "  'MF': {'nf': 1.1788, 'ear': 298.13},\n",
       "  'MM': {'nf': 0.95728, 'ear': 286.03},\n",
       "  'MN4': {'nf': 0.97646, 'ear': 23.79},\n",
       "  'MS4': {'nf': 0.98816, 'ear': 154.91},\n",
       "  'MSF': {'nf': 0.98816, 'ear': 203.04},\n",
       "  'MU2': {'nf': 0.98816, 'ear': 311.87},\n",
       "  'N2': {'nf': 0.98816, 'ear': 228.88},\n",
       "  'NU2': {'nf': 0.98816, 'ear': 237.9},\n",
       "  'O1': {'nf': 1.07983, 'ear': 18.39},\n",
       "  'P1': {'nf': 1.0, 'ear': 212.12},\n",
       "  'Q1': {'nf': 1.07983, 'ear': 92.36},\n",
       "  'R2': {'nf': 1.0, 'ear': 314.57},\n",
       "  'S1': {'nf': 1.0, 'ear': 180.0},\n",
       "  'S2': {'nf': 1.0, 'ear': 0.0},\n",
       "  'S4': {'nf': 1.0, 'ear': 0.0},\n",
       "  'SSA': {'nf': 1.0, 'ear': 115.76},\n",
       "  'T2': {'nf': 1.0, 'ear': 225.43},\n",
       "  'LAMB': {'nf': 0.98816, 'ear': 251.92},\n",
       "  'L2': {'nf': 0.0, 'ear': 243.57},\n",
       "  'K2': {'nf': 1.11113, 'ear': 99.37},\n",
       "  'K1': {'nf': 1.0495, 'ear': 139.93},\n",
       "  'J1': {'nf': 1.07879, 'ear': 62.55},\n",
       "  '2N2': {'nf': 0.98816, 'ear': 302.85}}}"
      ]
     },
     "execution_count": 3,
     "metadata": {},
     "output_type": "execute_result"
    }
   ],
   "source": [
    "# A output from the tide_fac.f can be read using read_tidefacout\n",
    "# which returns a Tidefac object\n",
    "\n",
    "fname = \"/run/media/khan/Workbench/yass2021/model/tide_fac.out\"\n",
    "tidefac = read_tidefacout(fname)\n",
    "tidefac"
   ]
  },
  {
   "cell_type": "code",
   "execution_count": 8,
   "metadata": {},
   "outputs": [
    {
     "data": {
      "text/plain": [
       "{'M2': {'nf': 0.98816, 'ear': 154.91},\n",
       " 'M3': {'nf': 0.98238, 'ear': 232.37},\n",
       " 'M4': {'nf': 0.97646, 'ear': 309.82},\n",
       " 'M6': {'nf': 0.9649, 'ear': 104.73},\n",
       " 'M8': {'nf': 0.95348, 'ear': 259.65},\n",
       " 'MF': {'nf': 1.1788, 'ear': 298.13},\n",
       " 'MM': {'nf': 0.95728, 'ear': 286.03},\n",
       " 'MN4': {'nf': 0.97646, 'ear': 23.79},\n",
       " 'MS4': {'nf': 0.98816, 'ear': 154.91},\n",
       " 'MSF': {'nf': 0.98816, 'ear': 203.04},\n",
       " 'MU2': {'nf': 0.98816, 'ear': 311.87},\n",
       " 'N2': {'nf': 0.98816, 'ear': 228.88},\n",
       " 'NU2': {'nf': 0.98816, 'ear': 237.9},\n",
       " 'O1': {'nf': 1.07983, 'ear': 18.39},\n",
       " 'P1': {'nf': 1.0, 'ear': 212.12},\n",
       " 'Q1': {'nf': 1.07983, 'ear': 92.36},\n",
       " 'R2': {'nf': 1.0, 'ear': 314.57},\n",
       " 'S1': {'nf': 1.0, 'ear': 180.0},\n",
       " 'S2': {'nf': 1.0, 'ear': 0.0},\n",
       " 'S4': {'nf': 1.0, 'ear': 0.0},\n",
       " 'SSA': {'nf': 1.0, 'ear': 115.76},\n",
       " 'T2': {'nf': 1.0, 'ear': 225.43},\n",
       " 'LAMB': {'nf': 0.98816, 'ear': 251.92},\n",
       " 'L2': {'nf': 0.0, 'ear': 243.57},\n",
       " 'K2': {'nf': 1.11113, 'ear': 99.37},\n",
       " 'K1': {'nf': 1.0495, 'ear': 139.93},\n",
       " 'J1': {'nf': 1.07879, 'ear': 62.55},\n",
       " '2N2': {'nf': 0.98816, 'ear': 302.85}}"
      ]
     },
     "execution_count": 8,
     "metadata": {},
     "output_type": "execute_result"
    }
   ],
   "source": [
    "# the constants can be accessed as tidefac.consts\n",
    "tidefac.consts"
   ]
  },
  {
   "cell_type": "code",
   "execution_count": 10,
   "metadata": {},
   "outputs": [
    {
     "data": {
      "text/html": [
       "<div>\n",
       "<style scoped>\n",
       "    .dataframe tbody tr th:only-of-type {\n",
       "        vertical-align: middle;\n",
       "    }\n",
       "\n",
       "    .dataframe tbody tr th {\n",
       "        vertical-align: top;\n",
       "    }\n",
       "\n",
       "    .dataframe thead th {\n",
       "        text-align: right;\n",
       "    }\n",
       "</style>\n",
       "<table border=\"1\" class=\"dataframe\">\n",
       "  <thead>\n",
       "    <tr style=\"text-align: right;\">\n",
       "      <th></th>\n",
       "      <th>nf</th>\n",
       "      <th>ear</th>\n",
       "    </tr>\n",
       "  </thead>\n",
       "  <tbody>\n",
       "    <tr>\n",
       "      <th>M2</th>\n",
       "      <td>0.98816</td>\n",
       "      <td>154.91</td>\n",
       "    </tr>\n",
       "    <tr>\n",
       "      <th>M3</th>\n",
       "      <td>0.98238</td>\n",
       "      <td>232.37</td>\n",
       "    </tr>\n",
       "    <tr>\n",
       "      <th>M4</th>\n",
       "      <td>0.97646</td>\n",
       "      <td>309.82</td>\n",
       "    </tr>\n",
       "    <tr>\n",
       "      <th>M6</th>\n",
       "      <td>0.96490</td>\n",
       "      <td>104.73</td>\n",
       "    </tr>\n",
       "    <tr>\n",
       "      <th>M8</th>\n",
       "      <td>0.95348</td>\n",
       "      <td>259.65</td>\n",
       "    </tr>\n",
       "    <tr>\n",
       "      <th>MF</th>\n",
       "      <td>1.17880</td>\n",
       "      <td>298.13</td>\n",
       "    </tr>\n",
       "    <tr>\n",
       "      <th>MM</th>\n",
       "      <td>0.95728</td>\n",
       "      <td>286.03</td>\n",
       "    </tr>\n",
       "    <tr>\n",
       "      <th>MN4</th>\n",
       "      <td>0.97646</td>\n",
       "      <td>23.79</td>\n",
       "    </tr>\n",
       "    <tr>\n",
       "      <th>MS4</th>\n",
       "      <td>0.98816</td>\n",
       "      <td>154.91</td>\n",
       "    </tr>\n",
       "    <tr>\n",
       "      <th>MSF</th>\n",
       "      <td>0.98816</td>\n",
       "      <td>203.04</td>\n",
       "    </tr>\n",
       "    <tr>\n",
       "      <th>MU2</th>\n",
       "      <td>0.98816</td>\n",
       "      <td>311.87</td>\n",
       "    </tr>\n",
       "    <tr>\n",
       "      <th>N2</th>\n",
       "      <td>0.98816</td>\n",
       "      <td>228.88</td>\n",
       "    </tr>\n",
       "    <tr>\n",
       "      <th>NU2</th>\n",
       "      <td>0.98816</td>\n",
       "      <td>237.90</td>\n",
       "    </tr>\n",
       "    <tr>\n",
       "      <th>O1</th>\n",
       "      <td>1.07983</td>\n",
       "      <td>18.39</td>\n",
       "    </tr>\n",
       "    <tr>\n",
       "      <th>P1</th>\n",
       "      <td>1.00000</td>\n",
       "      <td>212.12</td>\n",
       "    </tr>\n",
       "    <tr>\n",
       "      <th>Q1</th>\n",
       "      <td>1.07983</td>\n",
       "      <td>92.36</td>\n",
       "    </tr>\n",
       "    <tr>\n",
       "      <th>R2</th>\n",
       "      <td>1.00000</td>\n",
       "      <td>314.57</td>\n",
       "    </tr>\n",
       "    <tr>\n",
       "      <th>S1</th>\n",
       "      <td>1.00000</td>\n",
       "      <td>180.00</td>\n",
       "    </tr>\n",
       "    <tr>\n",
       "      <th>S2</th>\n",
       "      <td>1.00000</td>\n",
       "      <td>0.00</td>\n",
       "    </tr>\n",
       "    <tr>\n",
       "      <th>S4</th>\n",
       "      <td>1.00000</td>\n",
       "      <td>0.00</td>\n",
       "    </tr>\n",
       "    <tr>\n",
       "      <th>SSA</th>\n",
       "      <td>1.00000</td>\n",
       "      <td>115.76</td>\n",
       "    </tr>\n",
       "    <tr>\n",
       "      <th>T2</th>\n",
       "      <td>1.00000</td>\n",
       "      <td>225.43</td>\n",
       "    </tr>\n",
       "    <tr>\n",
       "      <th>LAMB</th>\n",
       "      <td>0.98816</td>\n",
       "      <td>251.92</td>\n",
       "    </tr>\n",
       "    <tr>\n",
       "      <th>L2</th>\n",
       "      <td>0.00000</td>\n",
       "      <td>243.57</td>\n",
       "    </tr>\n",
       "    <tr>\n",
       "      <th>K2</th>\n",
       "      <td>1.11113</td>\n",
       "      <td>99.37</td>\n",
       "    </tr>\n",
       "    <tr>\n",
       "      <th>K1</th>\n",
       "      <td>1.04950</td>\n",
       "      <td>139.93</td>\n",
       "    </tr>\n",
       "    <tr>\n",
       "      <th>J1</th>\n",
       "      <td>1.07879</td>\n",
       "      <td>62.55</td>\n",
       "    </tr>\n",
       "    <tr>\n",
       "      <th>2N2</th>\n",
       "      <td>0.98816</td>\n",
       "      <td>302.85</td>\n",
       "    </tr>\n",
       "  </tbody>\n",
       "</table>\n",
       "</div>"
      ],
      "text/plain": [
       "           nf     ear\n",
       "M2    0.98816  154.91\n",
       "M3    0.98238  232.37\n",
       "M4    0.97646  309.82\n",
       "M6    0.96490  104.73\n",
       "M8    0.95348  259.65\n",
       "MF    1.17880  298.13\n",
       "MM    0.95728  286.03\n",
       "MN4   0.97646   23.79\n",
       "MS4   0.98816  154.91\n",
       "MSF   0.98816  203.04\n",
       "MU2   0.98816  311.87\n",
       "N2    0.98816  228.88\n",
       "NU2   0.98816  237.90\n",
       "O1    1.07983   18.39\n",
       "P1    1.00000  212.12\n",
       "Q1    1.07983   92.36\n",
       "R2    1.00000  314.57\n",
       "S1    1.00000  180.00\n",
       "S2    1.00000    0.00\n",
       "S4    1.00000    0.00\n",
       "SSA   1.00000  115.76\n",
       "T2    1.00000  225.43\n",
       "LAMB  0.98816  251.92\n",
       "L2    0.00000  243.57\n",
       "K2    1.11113   99.37\n",
       "K1    1.04950  139.93\n",
       "J1    1.07879   62.55\n",
       "2N2   0.98816  302.85"
      ]
     },
     "execution_count": 10,
     "metadata": {},
     "output_type": "execute_result"
    }
   ],
   "source": [
    "# To look at the constants as dataframe\n",
    "import pandas as pd\n",
    "pd.DataFrame(tidefac.consts).T"
   ]
  },
  {
   "cell_type": "code",
   "execution_count": 4,
   "metadata": {},
   "outputs": [
    {
     "data": {
      "text/plain": [
       "'2021-05-20 00:00:00'"
      ]
     },
     "execution_count": 4,
     "metadata": {},
     "output_type": "execute_result"
    }
   ],
   "source": [
    "# start date as a string can be obtained from\n",
    "tidefac.start_date"
   ]
  },
  {
   "cell_type": "code",
   "execution_count": 5,
   "metadata": {},
   "outputs": [
    {
     "data": {
      "text/plain": [
       "10.0"
      ]
     },
     "execution_count": 5,
     "metadata": {},
     "output_type": "execute_result"
    }
   ],
   "source": [
    "tidefac.rnday"
   ]
  },
  {
   "cell_type": "code",
   "execution_count": 6,
   "metadata": {},
   "outputs": [
    {
     "name": "stdout",
     "output_type": "stream",
     "text": [
      "10.00 days run starting from 2021-05-20 00:00:00 UTC\n"
     ]
    }
   ],
   "source": [
    "tidefac.describe()"
   ]
  }
 ],
 "metadata": {
  "interpreter": {
   "hash": "eb4237e3bcb53fe0050214670432f8666a16d38c9ac0b08bc9b27fb237db29e1"
  },
  "kernelspec": {
   "display_name": "Python 3.7.11 ('pycaz')",
   "language": "python",
   "name": "python3"
  },
  "language_info": {
   "codemirror_mode": {
    "name": "ipython",
    "version": 3
   },
   "file_extension": ".py",
   "mimetype": "text/x-python",
   "name": "python",
   "nbconvert_exporter": "python",
   "pygments_lexer": "ipython3",
   "version": "3.7.11"
  },
  "orig_nbformat": 4
 },
 "nbformat": 4,
 "nbformat_minor": 2
}
