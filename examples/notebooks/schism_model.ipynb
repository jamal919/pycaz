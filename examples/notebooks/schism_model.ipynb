{
 "cells": [
  {
   "cell_type": "code",
   "execution_count": 1,
   "metadata": {},
   "outputs": [],
   "source": [
    "%load_ext autoreload\n",
    "%autoreload 2"
   ]
  },
  {
   "cell_type": "code",
   "execution_count": 2,
   "metadata": {},
   "outputs": [],
   "source": [
    "import numpy as np\n",
    "import pandas as pd\n",
    "import matplotlib.pyplot as plt\n",
    "import cartopy.crs as ccrs\n",
    "from scipy.interpolate import LinearNDInterpolator\n",
    "import os"
   ]
  },
  {
   "cell_type": "code",
   "execution_count": 3,
   "metadata": {},
   "outputs": [],
   "source": [
    "from pycaz.schism import read_gr3, read_hgrid"
   ]
  },
  {
   "cell_type": "markdown",
   "metadata": {},
   "source": [
    "# hgrid.g3\n",
    "\n",
    "- Load the mesh\n",
    "- Interpolate the bathymetry from global dataset\n",
    "- Save as hgrid.gr3 file"
   ]
  },
  {
   "cell_type": "code",
   "execution_count": 4,
   "metadata": {},
   "outputs": [],
   "source": [
    "fname = 'Inland_from_break_1000_10000.grd'\n",
    "hgrid = read_hgrid(fname)"
   ]
  },
  {
   "cell_type": "code",
   "execution_count": 5,
   "metadata": {},
   "outputs": [
    {
     "data": {
      "text/plain": [
       "(43.0833222966, 50.6389427981)"
      ]
     },
     "execution_count": 5,
     "metadata": {},
     "output_type": "execute_result"
    }
   ],
   "source": [
    "hgrid.x.min(), hgrid.x.max()"
   ]
  },
  {
   "cell_type": "code",
   "execution_count": 6,
   "metadata": {},
   "outputs": [
    {
     "data": {
      "text/html": [
       "<div><svg style=\"position: absolute; width: 0; height: 0; overflow: hidden\">\n",
       "<defs>\n",
       "<symbol id=\"icon-database\" viewBox=\"0 0 32 32\">\n",
       "<path d=\"M16 0c-8.837 0-16 2.239-16 5v4c0 2.761 7.163 5 16 5s16-2.239 16-5v-4c0-2.761-7.163-5-16-5z\"></path>\n",
       "<path d=\"M16 17c-8.837 0-16-2.239-16-5v6c0 2.761 7.163 5 16 5s16-2.239 16-5v-6c0 2.761-7.163 5-16 5z\"></path>\n",
       "<path d=\"M16 26c-8.837 0-16-2.239-16-5v6c0 2.761 7.163 5 16 5s16-2.239 16-5v-6c0 2.761-7.163 5-16 5z\"></path>\n",
       "</symbol>\n",
       "<symbol id=\"icon-file-text2\" viewBox=\"0 0 32 32\">\n",
       "<path d=\"M28.681 7.159c-0.694-0.947-1.662-2.053-2.724-3.116s-2.169-2.030-3.116-2.724c-1.612-1.182-2.393-1.319-2.841-1.319h-15.5c-1.378 0-2.5 1.121-2.5 2.5v27c0 1.378 1.122 2.5 2.5 2.5h23c1.378 0 2.5-1.122 2.5-2.5v-19.5c0-0.448-0.137-1.23-1.319-2.841zM24.543 5.457c0.959 0.959 1.712 1.825 2.268 2.543h-4.811v-4.811c0.718 0.556 1.584 1.309 2.543 2.268zM28 29.5c0 0.271-0.229 0.5-0.5 0.5h-23c-0.271 0-0.5-0.229-0.5-0.5v-27c0-0.271 0.229-0.5 0.5-0.5 0 0 15.499-0 15.5 0v7c0 0.552 0.448 1 1 1h7v19.5z\"></path>\n",
       "<path d=\"M23 26h-14c-0.552 0-1-0.448-1-1s0.448-1 1-1h14c0.552 0 1 0.448 1 1s-0.448 1-1 1z\"></path>\n",
       "<path d=\"M23 22h-14c-0.552 0-1-0.448-1-1s0.448-1 1-1h14c0.552 0 1 0.448 1 1s-0.448 1-1 1z\"></path>\n",
       "<path d=\"M23 18h-14c-0.552 0-1-0.448-1-1s0.448-1 1-1h14c0.552 0 1 0.448 1 1s-0.448 1-1 1z\"></path>\n",
       "</symbol>\n",
       "</defs>\n",
       "</svg>\n",
       "<style>/* CSS stylesheet for displaying xarray objects in jupyterlab.\n",
       " *\n",
       " */\n",
       "\n",
       ":root {\n",
       "  --xr-font-color0: var(--jp-content-font-color0, rgba(0, 0, 0, 1));\n",
       "  --xr-font-color2: var(--jp-content-font-color2, rgba(0, 0, 0, 0.54));\n",
       "  --xr-font-color3: var(--jp-content-font-color3, rgba(0, 0, 0, 0.38));\n",
       "  --xr-border-color: var(--jp-border-color2, #e0e0e0);\n",
       "  --xr-disabled-color: var(--jp-layout-color3, #bdbdbd);\n",
       "  --xr-background-color: var(--jp-layout-color0, white);\n",
       "  --xr-background-color-row-even: var(--jp-layout-color1, white);\n",
       "  --xr-background-color-row-odd: var(--jp-layout-color2, #eeeeee);\n",
       "}\n",
       "\n",
       "html[theme=dark],\n",
       "body.vscode-dark {\n",
       "  --xr-font-color0: rgba(255, 255, 255, 1);\n",
       "  --xr-font-color2: rgba(255, 255, 255, 0.54);\n",
       "  --xr-font-color3: rgba(255, 255, 255, 0.38);\n",
       "  --xr-border-color: #1F1F1F;\n",
       "  --xr-disabled-color: #515151;\n",
       "  --xr-background-color: #111111;\n",
       "  --xr-background-color-row-even: #111111;\n",
       "  --xr-background-color-row-odd: #313131;\n",
       "}\n",
       "\n",
       ".xr-wrap {\n",
       "  display: block;\n",
       "  min-width: 300px;\n",
       "  max-width: 700px;\n",
       "}\n",
       "\n",
       ".xr-text-repr-fallback {\n",
       "  /* fallback to plain text repr when CSS is not injected (untrusted notebook) */\n",
       "  display: none;\n",
       "}\n",
       "\n",
       ".xr-header {\n",
       "  padding-top: 6px;\n",
       "  padding-bottom: 6px;\n",
       "  margin-bottom: 4px;\n",
       "  border-bottom: solid 1px var(--xr-border-color);\n",
       "}\n",
       "\n",
       ".xr-header > div,\n",
       ".xr-header > ul {\n",
       "  display: inline;\n",
       "  margin-top: 0;\n",
       "  margin-bottom: 0;\n",
       "}\n",
       "\n",
       ".xr-obj-type,\n",
       ".xr-array-name {\n",
       "  margin-left: 2px;\n",
       "  margin-right: 10px;\n",
       "}\n",
       "\n",
       ".xr-obj-type {\n",
       "  color: var(--xr-font-color2);\n",
       "}\n",
       "\n",
       ".xr-sections {\n",
       "  padding-left: 0 !important;\n",
       "  display: grid;\n",
       "  grid-template-columns: 150px auto auto 1fr 20px 20px;\n",
       "}\n",
       "\n",
       ".xr-section-item {\n",
       "  display: contents;\n",
       "}\n",
       "\n",
       ".xr-section-item input {\n",
       "  display: none;\n",
       "}\n",
       "\n",
       ".xr-section-item input + label {\n",
       "  color: var(--xr-disabled-color);\n",
       "}\n",
       "\n",
       ".xr-section-item input:enabled + label {\n",
       "  cursor: pointer;\n",
       "  color: var(--xr-font-color2);\n",
       "}\n",
       "\n",
       ".xr-section-item input:enabled + label:hover {\n",
       "  color: var(--xr-font-color0);\n",
       "}\n",
       "\n",
       ".xr-section-summary {\n",
       "  grid-column: 1;\n",
       "  color: var(--xr-font-color2);\n",
       "  font-weight: 500;\n",
       "}\n",
       "\n",
       ".xr-section-summary > span {\n",
       "  display: inline-block;\n",
       "  padding-left: 0.5em;\n",
       "}\n",
       "\n",
       ".xr-section-summary-in:disabled + label {\n",
       "  color: var(--xr-font-color2);\n",
       "}\n",
       "\n",
       ".xr-section-summary-in + label:before {\n",
       "  display: inline-block;\n",
       "  content: '►';\n",
       "  font-size: 11px;\n",
       "  width: 15px;\n",
       "  text-align: center;\n",
       "}\n",
       "\n",
       ".xr-section-summary-in:disabled + label:before {\n",
       "  color: var(--xr-disabled-color);\n",
       "}\n",
       "\n",
       ".xr-section-summary-in:checked + label:before {\n",
       "  content: '▼';\n",
       "}\n",
       "\n",
       ".xr-section-summary-in:checked + label > span {\n",
       "  display: none;\n",
       "}\n",
       "\n",
       ".xr-section-summary,\n",
       ".xr-section-inline-details {\n",
       "  padding-top: 4px;\n",
       "  padding-bottom: 4px;\n",
       "}\n",
       "\n",
       ".xr-section-inline-details {\n",
       "  grid-column: 2 / -1;\n",
       "}\n",
       "\n",
       ".xr-section-details {\n",
       "  display: none;\n",
       "  grid-column: 1 / -1;\n",
       "  margin-bottom: 5px;\n",
       "}\n",
       "\n",
       ".xr-section-summary-in:checked ~ .xr-section-details {\n",
       "  display: contents;\n",
       "}\n",
       "\n",
       ".xr-array-wrap {\n",
       "  grid-column: 1 / -1;\n",
       "  display: grid;\n",
       "  grid-template-columns: 20px auto;\n",
       "}\n",
       "\n",
       ".xr-array-wrap > label {\n",
       "  grid-column: 1;\n",
       "  vertical-align: top;\n",
       "}\n",
       "\n",
       ".xr-preview {\n",
       "  color: var(--xr-font-color3);\n",
       "}\n",
       "\n",
       ".xr-array-preview,\n",
       ".xr-array-data {\n",
       "  padding: 0 5px !important;\n",
       "  grid-column: 2;\n",
       "}\n",
       "\n",
       ".xr-array-data,\n",
       ".xr-array-in:checked ~ .xr-array-preview {\n",
       "  display: none;\n",
       "}\n",
       "\n",
       ".xr-array-in:checked ~ .xr-array-data,\n",
       ".xr-array-preview {\n",
       "  display: inline-block;\n",
       "}\n",
       "\n",
       ".xr-dim-list {\n",
       "  display: inline-block !important;\n",
       "  list-style: none;\n",
       "  padding: 0 !important;\n",
       "  margin: 0;\n",
       "}\n",
       "\n",
       ".xr-dim-list li {\n",
       "  display: inline-block;\n",
       "  padding: 0;\n",
       "  margin: 0;\n",
       "}\n",
       "\n",
       ".xr-dim-list:before {\n",
       "  content: '(';\n",
       "}\n",
       "\n",
       ".xr-dim-list:after {\n",
       "  content: ')';\n",
       "}\n",
       "\n",
       ".xr-dim-list li:not(:last-child):after {\n",
       "  content: ',';\n",
       "  padding-right: 5px;\n",
       "}\n",
       "\n",
       ".xr-has-index {\n",
       "  font-weight: bold;\n",
       "}\n",
       "\n",
       ".xr-var-list,\n",
       ".xr-var-item {\n",
       "  display: contents;\n",
       "}\n",
       "\n",
       ".xr-var-item > div,\n",
       ".xr-var-item label,\n",
       ".xr-var-item > .xr-var-name span {\n",
       "  background-color: var(--xr-background-color-row-even);\n",
       "  margin-bottom: 0;\n",
       "}\n",
       "\n",
       ".xr-var-item > .xr-var-name:hover span {\n",
       "  padding-right: 5px;\n",
       "}\n",
       "\n",
       ".xr-var-list > li:nth-child(odd) > div,\n",
       ".xr-var-list > li:nth-child(odd) > label,\n",
       ".xr-var-list > li:nth-child(odd) > .xr-var-name span {\n",
       "  background-color: var(--xr-background-color-row-odd);\n",
       "}\n",
       "\n",
       ".xr-var-name {\n",
       "  grid-column: 1;\n",
       "}\n",
       "\n",
       ".xr-var-dims {\n",
       "  grid-column: 2;\n",
       "}\n",
       "\n",
       ".xr-var-dtype {\n",
       "  grid-column: 3;\n",
       "  text-align: right;\n",
       "  color: var(--xr-font-color2);\n",
       "}\n",
       "\n",
       ".xr-var-preview {\n",
       "  grid-column: 4;\n",
       "}\n",
       "\n",
       ".xr-var-name,\n",
       ".xr-var-dims,\n",
       ".xr-var-dtype,\n",
       ".xr-preview,\n",
       ".xr-attrs dt {\n",
       "  white-space: nowrap;\n",
       "  overflow: hidden;\n",
       "  text-overflow: ellipsis;\n",
       "  padding-right: 10px;\n",
       "}\n",
       "\n",
       ".xr-var-name:hover,\n",
       ".xr-var-dims:hover,\n",
       ".xr-var-dtype:hover,\n",
       ".xr-attrs dt:hover {\n",
       "  overflow: visible;\n",
       "  width: auto;\n",
       "  z-index: 1;\n",
       "}\n",
       "\n",
       ".xr-var-attrs,\n",
       ".xr-var-data {\n",
       "  display: none;\n",
       "  background-color: var(--xr-background-color) !important;\n",
       "  padding-bottom: 5px !important;\n",
       "}\n",
       "\n",
       ".xr-var-attrs-in:checked ~ .xr-var-attrs,\n",
       ".xr-var-data-in:checked ~ .xr-var-data {\n",
       "  display: block;\n",
       "}\n",
       "\n",
       ".xr-var-data > table {\n",
       "  float: right;\n",
       "}\n",
       "\n",
       ".xr-var-name span,\n",
       ".xr-var-data,\n",
       ".xr-attrs {\n",
       "  padding-left: 25px !important;\n",
       "}\n",
       "\n",
       ".xr-attrs,\n",
       ".xr-var-attrs,\n",
       ".xr-var-data {\n",
       "  grid-column: 1 / -1;\n",
       "}\n",
       "\n",
       "dl.xr-attrs {\n",
       "  padding: 0;\n",
       "  margin: 0;\n",
       "  display: grid;\n",
       "  grid-template-columns: 125px auto;\n",
       "}\n",
       "\n",
       ".xr-attrs dt,\n",
       ".xr-attrs dd {\n",
       "  padding: 0;\n",
       "  margin: 0;\n",
       "  float: left;\n",
       "  padding-right: 10px;\n",
       "  width: auto;\n",
       "}\n",
       "\n",
       ".xr-attrs dt {\n",
       "  font-weight: normal;\n",
       "  grid-column: 1;\n",
       "}\n",
       "\n",
       ".xr-attrs dt:hover span {\n",
       "  display: inline-block;\n",
       "  background: var(--xr-background-color);\n",
       "  padding-right: 10px;\n",
       "}\n",
       "\n",
       ".xr-attrs dd {\n",
       "  grid-column: 2;\n",
       "  white-space: pre-wrap;\n",
       "  word-break: break-all;\n",
       "}\n",
       "\n",
       ".xr-icon-database,\n",
       ".xr-icon-file-text2 {\n",
       "  display: inline-block;\n",
       "  vertical-align: middle;\n",
       "  width: 1em;\n",
       "  height: 1.5em !important;\n",
       "  stroke-width: 0;\n",
       "  stroke: currentColor;\n",
       "  fill: currentColor;\n",
       "}\n",
       "</style><pre class='xr-text-repr-fallback'>&lt;xarray.Dataset&gt;\n",
       "Dimensions:    (lon: 86400, lat: 43200)\n",
       "Coordinates:\n",
       "  * lon        (lon) float64 -180.0 -180.0 -180.0 -180.0 ... 180.0 180.0 180.0\n",
       "  * lat        (lat) float64 -90.0 -89.99 -89.99 -89.99 ... 89.99 89.99 90.0\n",
       "Data variables:\n",
       "    crs        |S1 ...\n",
       "    elevation  (lat, lon) int16 dask.array&lt;chunksize=(1000, 1000), meta=np.ndarray&gt;\n",
       "Attributes: (12/36)\n",
       "    title:                           The GEBCO_2022 Grid - a continuous terra...\n",
       "    summary:                         The GEBCO_2022 Grid is a continuous, glo...\n",
       "    keywords:                        BATHYMETRY/SEAFLOOR TOPOGRAPHY, DIGITAL ...\n",
       "    Conventions:                     CF-1.6, ACDD-1.3\n",
       "    id:                              DOI: 10.5285/e0f0bb80-ab44-2739-e053-6c8...\n",
       "    naming_authority:                https://dx.doi.org\n",
       "    ...                              ...\n",
       "    geospatial_vertical_units:       meters\n",
       "    geospatial_vertical_resolution:  1.0\n",
       "    geospatial_vertical_positive:    up\n",
       "    identifier_product_doi:          DOI: 10.5285/e0f0bb80-ab44-2739-e053-6c8...\n",
       "    references:                      DOI: 10.5285/e0f0bb80-ab44-2739-e053-6c8...\n",
       "    node_offset:                     1.0</pre><div class='xr-wrap' hidden><div class='xr-header'><div class='xr-obj-type'>xarray.Dataset</div></div><ul class='xr-sections'><li class='xr-section-item'><input id='section-79f6bc3f-bcd9-4b7d-9d56-29d9f61602b9' class='xr-section-summary-in' type='checkbox' disabled ><label for='section-79f6bc3f-bcd9-4b7d-9d56-29d9f61602b9' class='xr-section-summary'  title='Expand/collapse section'>Dimensions:</label><div class='xr-section-inline-details'><ul class='xr-dim-list'><li><span class='xr-has-index'>lon</span>: 86400</li><li><span class='xr-has-index'>lat</span>: 43200</li></ul></div><div class='xr-section-details'></div></li><li class='xr-section-item'><input id='section-7bc58622-fbeb-4016-966e-612e0564339a' class='xr-section-summary-in' type='checkbox'  checked><label for='section-7bc58622-fbeb-4016-966e-612e0564339a' class='xr-section-summary' >Coordinates: <span>(2)</span></label><div class='xr-section-inline-details'></div><div class='xr-section-details'><ul class='xr-var-list'><li class='xr-var-item'><div class='xr-var-name'><span class='xr-has-index'>lon</span></div><div class='xr-var-dims'>(lon)</div><div class='xr-var-dtype'>float64</div><div class='xr-var-preview xr-preview'>-180.0 -180.0 ... 180.0 180.0</div><input id='attrs-04cb72f8-60ec-49ac-b84c-505bb87ef8fb' class='xr-var-attrs-in' type='checkbox' ><label for='attrs-04cb72f8-60ec-49ac-b84c-505bb87ef8fb' title='Show/Hide attributes'><svg class='icon xr-icon-file-text2'><use xlink:href='#icon-file-text2'></use></svg></label><input id='data-3abd2ea6-db22-42c8-b7af-4aa80b482f8a' class='xr-var-data-in' type='checkbox'><label for='data-3abd2ea6-db22-42c8-b7af-4aa80b482f8a' title='Show/Hide data repr'><svg class='icon xr-icon-database'><use xlink:href='#icon-database'></use></svg></label><div class='xr-var-attrs'><dl class='xr-attrs'><dt><span>standard_name :</span></dt><dd>longitude</dd><dt><span>long_name :</span></dt><dd>longitude</dd><dt><span>units :</span></dt><dd>degrees_east</dd><dt><span>axis :</span></dt><dd>X</dd><dt><span>sdn_parameter_urn :</span></dt><dd>SDN:P01::ALONZZ01</dd><dt><span>sdn_parameter_name :</span></dt><dd>Longitude east</dd><dt><span>sdn_uom_urn :</span></dt><dd>SDN:P06::DEGE</dd><dt><span>sdn_uom_name :</span></dt><dd>Degrees east</dd></dl></div><div class='xr-var-data'><pre>array([-179.997917, -179.99375 , -179.989583, ...,  179.989583,  179.99375 ,\n",
       "        179.997917])</pre></div></li><li class='xr-var-item'><div class='xr-var-name'><span class='xr-has-index'>lat</span></div><div class='xr-var-dims'>(lat)</div><div class='xr-var-dtype'>float64</div><div class='xr-var-preview xr-preview'>-90.0 -89.99 -89.99 ... 89.99 90.0</div><input id='attrs-3aa6e06b-fea3-4b2e-b8d5-9d930dd7a0c3' class='xr-var-attrs-in' type='checkbox' ><label for='attrs-3aa6e06b-fea3-4b2e-b8d5-9d930dd7a0c3' title='Show/Hide attributes'><svg class='icon xr-icon-file-text2'><use xlink:href='#icon-file-text2'></use></svg></label><input id='data-a133813b-2cd1-4b4c-9321-726faf1aa741' class='xr-var-data-in' type='checkbox'><label for='data-a133813b-2cd1-4b4c-9321-726faf1aa741' title='Show/Hide data repr'><svg class='icon xr-icon-database'><use xlink:href='#icon-database'></use></svg></label><div class='xr-var-attrs'><dl class='xr-attrs'><dt><span>standard_name :</span></dt><dd>latitude</dd><dt><span>long_name :</span></dt><dd>latitude</dd><dt><span>units :</span></dt><dd>degrees_north</dd><dt><span>axis :</span></dt><dd>Y</dd><dt><span>sdn_parameter_urn :</span></dt><dd>SDN:P01::ALATZZ01</dd><dt><span>sdn_parameter_name :</span></dt><dd>Latitude north</dd><dt><span>sdn_uom_urn :</span></dt><dd>SDN:P06::DEGN</dd><dt><span>sdn_uom_name :</span></dt><dd>Degrees north</dd></dl></div><div class='xr-var-data'><pre>array([-89.997917, -89.99375 , -89.989583, ...,  89.989583,  89.99375 ,\n",
       "        89.997917])</pre></div></li></ul></div></li><li class='xr-section-item'><input id='section-43a5eef3-f11b-413e-a69d-67eee1ed4c6a' class='xr-section-summary-in' type='checkbox'  checked><label for='section-43a5eef3-f11b-413e-a69d-67eee1ed4c6a' class='xr-section-summary' >Data variables: <span>(2)</span></label><div class='xr-section-inline-details'></div><div class='xr-section-details'><ul class='xr-var-list'><li class='xr-var-item'><div class='xr-var-name'><span>crs</span></div><div class='xr-var-dims'>()</div><div class='xr-var-dtype'>|S1</div><div class='xr-var-preview xr-preview'>...</div><input id='attrs-13bdf2b8-7997-4ad2-9717-65b87d43bcac' class='xr-var-attrs-in' type='checkbox' ><label for='attrs-13bdf2b8-7997-4ad2-9717-65b87d43bcac' title='Show/Hide attributes'><svg class='icon xr-icon-file-text2'><use xlink:href='#icon-file-text2'></use></svg></label><input id='data-02a2cbd0-0897-45b8-b086-8ceebb68caad' class='xr-var-data-in' type='checkbox'><label for='data-02a2cbd0-0897-45b8-b086-8ceebb68caad' title='Show/Hide data repr'><svg class='icon xr-icon-database'><use xlink:href='#icon-database'></use></svg></label><div class='xr-var-attrs'><dl class='xr-attrs'><dt><span>grid_mapping_name :</span></dt><dd>latitude_longitude</dd><dt><span>epsg_code :</span></dt><dd>EPSG:4326</dd><dt><span>inverse_flattening :</span></dt><dd>298.257223563</dd><dt><span>semi_major_axis :</span></dt><dd>6378137.0</dd></dl></div><div class='xr-var-data'><pre>array(b&#x27;&#x27;, dtype=&#x27;|S1&#x27;)</pre></div></li><li class='xr-var-item'><div class='xr-var-name'><span>elevation</span></div><div class='xr-var-dims'>(lat, lon)</div><div class='xr-var-dtype'>int16</div><div class='xr-var-preview xr-preview'>dask.array&lt;chunksize=(1000, 1000), meta=np.ndarray&gt;</div><input id='attrs-a97c3e5e-2f7c-409c-b19f-1c248d32acf1' class='xr-var-attrs-in' type='checkbox' ><label for='attrs-a97c3e5e-2f7c-409c-b19f-1c248d32acf1' title='Show/Hide attributes'><svg class='icon xr-icon-file-text2'><use xlink:href='#icon-file-text2'></use></svg></label><input id='data-e1645497-c942-469e-9cce-9eb9990f6fcd' class='xr-var-data-in' type='checkbox'><label for='data-e1645497-c942-469e-9cce-9eb9990f6fcd' title='Show/Hide data repr'><svg class='icon xr-icon-database'><use xlink:href='#icon-database'></use></svg></label><div class='xr-var-attrs'><dl class='xr-attrs'><dt><span>standard_name :</span></dt><dd>height_above_mean_sea_level</dd><dt><span>long_name :</span></dt><dd>Elevation relative to sea level</dd><dt><span>units :</span></dt><dd>m</dd><dt><span>grid_mapping :</span></dt><dd>crs</dd><dt><span>sdn_parameter_urn :</span></dt><dd>SDN:P01::ALATZZ01</dd><dt><span>sdn_parameter_name :</span></dt><dd>Sea floor height (above mean sea level) {bathymetric height}</dd><dt><span>sdn_uom_urn :</span></dt><dd>SDN:P06::ULAA</dd><dt><span>sdn_uom_name :</span></dt><dd>Metres</dd></dl></div><div class='xr-var-data'><table>\n",
       "    <tr>\n",
       "        <td>\n",
       "            <table>\n",
       "                <thead>\n",
       "                    <tr>\n",
       "                        <td> </td>\n",
       "                        <th> Array </th>\n",
       "                        <th> Chunk </th>\n",
       "                    </tr>\n",
       "                </thead>\n",
       "                <tbody>\n",
       "                    \n",
       "                    <tr>\n",
       "                        <th> Bytes </th>\n",
       "                        <td> 6.95 GiB </td>\n",
       "                        <td> 1.91 MiB </td>\n",
       "                    </tr>\n",
       "                    \n",
       "                    <tr>\n",
       "                        <th> Shape </th>\n",
       "                        <td> (43200, 86400) </td>\n",
       "                        <td> (1000, 1000) </td>\n",
       "                    </tr>\n",
       "                    <tr>\n",
       "                        <th> Count </th>\n",
       "                        <td> 3829 Tasks </td>\n",
       "                        <td> 3828 Chunks </td>\n",
       "                    </tr>\n",
       "                    <tr>\n",
       "                    <th> Type </th>\n",
       "                    <td> int16 </td>\n",
       "                    <td> numpy.ndarray </td>\n",
       "                    </tr>\n",
       "                </tbody>\n",
       "            </table>\n",
       "        </td>\n",
       "        <td>\n",
       "        <svg width=\"170\" height=\"110\" style=\"stroke:rgb(0,0,0);stroke-width:1\" >\n",
       "\n",
       "  <!-- Horizontal lines -->\n",
       "  <line x1=\"0\" y1=\"0\" x2=\"120\" y2=\"0\" style=\"stroke-width:2\" />\n",
       "  <line x1=\"0\" y1=\"2\" x2=\"120\" y2=\"2\" />\n",
       "  <line x1=\"0\" y1=\"5\" x2=\"120\" y2=\"5\" />\n",
       "  <line x1=\"0\" y1=\"8\" x2=\"120\" y2=\"8\" />\n",
       "  <line x1=\"0\" y1=\"12\" x2=\"120\" y2=\"12\" />\n",
       "  <line x1=\"0\" y1=\"15\" x2=\"120\" y2=\"15\" />\n",
       "  <line x1=\"0\" y1=\"18\" x2=\"120\" y2=\"18\" />\n",
       "  <line x1=\"0\" y1=\"22\" x2=\"120\" y2=\"22\" />\n",
       "  <line x1=\"0\" y1=\"25\" x2=\"120\" y2=\"25\" />\n",
       "  <line x1=\"0\" y1=\"27\" x2=\"120\" y2=\"27\" />\n",
       "  <line x1=\"0\" y1=\"31\" x2=\"120\" y2=\"31\" />\n",
       "  <line x1=\"0\" y1=\"34\" x2=\"120\" y2=\"34\" />\n",
       "  <line x1=\"0\" y1=\"37\" x2=\"120\" y2=\"37\" />\n",
       "  <line x1=\"0\" y1=\"41\" x2=\"120\" y2=\"41\" />\n",
       "  <line x1=\"0\" y1=\"44\" x2=\"120\" y2=\"44\" />\n",
       "  <line x1=\"0\" y1=\"47\" x2=\"120\" y2=\"47\" />\n",
       "  <line x1=\"0\" y1=\"51\" x2=\"120\" y2=\"51\" />\n",
       "  <line x1=\"0\" y1=\"54\" x2=\"120\" y2=\"54\" />\n",
       "  <line x1=\"0\" y1=\"56\" x2=\"120\" y2=\"56\" />\n",
       "  <line x1=\"0\" y1=\"60\" x2=\"120\" y2=\"60\" style=\"stroke-width:2\" />\n",
       "\n",
       "  <!-- Vertical lines -->\n",
       "  <line x1=\"0\" y1=\"0\" x2=\"0\" y2=\"60\" style=\"stroke-width:2\" />\n",
       "  <line x1=\"5\" y1=\"0\" x2=\"5\" y2=\"60\" />\n",
       "  <line x1=\"12\" y1=\"0\" x2=\"12\" y2=\"60\" />\n",
       "  <line x1=\"18\" y1=\"0\" x2=\"18\" y2=\"60\" />\n",
       "  <line x1=\"25\" y1=\"0\" x2=\"25\" y2=\"60\" />\n",
       "  <line x1=\"30\" y1=\"0\" x2=\"30\" y2=\"60\" />\n",
       "  <line x1=\"37\" y1=\"0\" x2=\"37\" y2=\"60\" />\n",
       "  <line x1=\"44\" y1=\"0\" x2=\"44\" y2=\"60\" />\n",
       "  <line x1=\"50\" y1=\"0\" x2=\"50\" y2=\"60\" />\n",
       "  <line x1=\"56\" y1=\"0\" x2=\"56\" y2=\"60\" />\n",
       "  <line x1=\"62\" y1=\"0\" x2=\"62\" y2=\"60\" />\n",
       "  <line x1=\"69\" y1=\"0\" x2=\"69\" y2=\"60\" />\n",
       "  <line x1=\"75\" y1=\"0\" x2=\"75\" y2=\"60\" />\n",
       "  <line x1=\"81\" y1=\"0\" x2=\"81\" y2=\"60\" />\n",
       "  <line x1=\"88\" y1=\"0\" x2=\"88\" y2=\"60\" />\n",
       "  <line x1=\"94\" y1=\"0\" x2=\"94\" y2=\"60\" />\n",
       "  <line x1=\"101\" y1=\"0\" x2=\"101\" y2=\"60\" />\n",
       "  <line x1=\"106\" y1=\"0\" x2=\"106\" y2=\"60\" />\n",
       "  <line x1=\"113\" y1=\"0\" x2=\"113\" y2=\"60\" />\n",
       "  <line x1=\"120\" y1=\"0\" x2=\"120\" y2=\"60\" style=\"stroke-width:2\" />\n",
       "\n",
       "  <!-- Colored Rectangle -->\n",
       "  <polygon points=\"0.0,0.0 120.0,0.0 120.0,60.0 0.0,60.0\" style=\"fill:#8B4903A0;stroke-width:0\"/>\n",
       "\n",
       "  <!-- Text -->\n",
       "  <text x=\"60.000000\" y=\"80.000000\" font-size=\"1.0rem\" font-weight=\"100\" text-anchor=\"middle\" >86400</text>\n",
       "  <text x=\"140.000000\" y=\"30.000000\" font-size=\"1.0rem\" font-weight=\"100\" text-anchor=\"middle\" transform=\"rotate(-90,140.000000,30.000000)\">43200</text>\n",
       "</svg>\n",
       "        </td>\n",
       "    </tr>\n",
       "</table></div></li></ul></div></li><li class='xr-section-item'><input id='section-ce5a8ec7-88f4-42d3-b53b-5f0e4878330f' class='xr-section-summary-in' type='checkbox'  ><label for='section-ce5a8ec7-88f4-42d3-b53b-5f0e4878330f' class='xr-section-summary' >Attributes: <span>(36)</span></label><div class='xr-section-inline-details'></div><div class='xr-section-details'><dl class='xr-attrs'><dt><span>title :</span></dt><dd>The GEBCO_2022 Grid - a continuous terrain model for oceans and land at 15 arc-second intervals</dd><dt><span>summary :</span></dt><dd>The GEBCO_2022 Grid is a continuous, global terrain model for ocean and land with a spatial resolution of 15 arc seconds.The grid uses as a base-map Version 2.4 of the SRTM15+ data set (Tozer et al, 2019). This data set is a fusion of land topography with measured and estimated seafloor topography. It is augmented with gridded bathymetric data sets developed as part of the Nippon Foundation-GEBCO Seabed 2030 Project.</dd><dt><span>keywords :</span></dt><dd>BATHYMETRY/SEAFLOOR TOPOGRAPHY, DIGITAL ELEVATION/DIGITAL TERRAIN MODELS</dd><dt><span>Conventions :</span></dt><dd>CF-1.6, ACDD-1.3</dd><dt><span>id :</span></dt><dd>DOI: 10.5285/e0f0bb80-ab44-2739-e053-6c86abc0289c</dd><dt><span>naming_authority :</span></dt><dd>https://dx.doi.org</dd><dt><span>history :</span></dt><dd>Information on the development of the data set and the source data sets included in the grid can be found in the data set documentation available from https://www.gebco.net</dd><dt><span>source :</span></dt><dd>The GEBCO_2022 Grid is the latest global bathymetric product released by the General Bathymetric Chart of the Oceans (GEBCO) and has been developed through the Nippon Foundation-GEBCO Seabed 2030 Project. This is a collaborative project between the Nippon Foundation of Japan and GEBCO. The Seabed 2030 Project aims to bring together all available bathymetric data to produce the definitive map of the world ocean floor and make it available to all.</dd><dt><span>comment :</span></dt><dd>The data in the GEBCO_2022 Grid should not be used for navigation or any purpose relating to safety at sea.</dd><dt><span>license :</span></dt><dd>The GEBCO Grid is placed in the public domain and may be used free of charge. Use of the GEBCO Grid indicates that the user accepts the conditions of use and disclaimer information: https://www.gebco.net/data_and_products/gridded_bathymetry_data/gebco_2019/grid_terms_of_use.html</dd><dt><span>date_created :</span></dt><dd>2022-06-22</dd><dt><span>creator_name :</span></dt><dd>GEBCO through the Nippon Foundation-GEBCO Seabed 2030 Project</dd><dt><span>creator_email :</span></dt><dd>gdacc@seabed2030.org</dd><dt><span>creator_url :</span></dt><dd>https://www.gebco.net</dd><dt><span>institution :</span></dt><dd>On behalf of the General Bathymetric Chart of the Oceans (GEBCO), the data are held at the British Oceanographic Data Centre (BODC).</dd><dt><span>project :</span></dt><dd>Nippon Foundation - GEBCO Seabed2030 Project</dd><dt><span>creator_type :</span></dt><dd>International organisation</dd><dt><span>geospatial_bounds :</span></dt><dd>[-180.  -90.  180.   90.]</dd><dt><span>geospatial_bounds_crs :</span></dt><dd>WGS84</dd><dt><span>geospatial_bounds_vertical_crs :</span></dt><dd>EPSG:5831</dd><dt><span>geospatial_lat_min :</span></dt><dd>-90.0</dd><dt><span>geospatial_lat_max :</span></dt><dd>90.0</dd><dt><span>geospatial_lat_units :</span></dt><dd>degrees_north</dd><dt><span>geospatial_lat_resolution :</span></dt><dd>0.004166666666666667</dd><dt><span>geospatial_lon_min :</span></dt><dd>-180.0</dd><dt><span>geospatial_lon_max :</span></dt><dd>180.0</dd><dt><span>geospatial_lon_units :</span></dt><dd>degrees_east</dd><dt><span>geospatial_lon_resolution :</span></dt><dd>0.004166666666666667</dd><dt><span>geospatial_vertical_min :</span></dt><dd>-10977.0</dd><dt><span>geospatial_vertical_max :</span></dt><dd>8685.0</dd><dt><span>geospatial_vertical_units :</span></dt><dd>meters</dd><dt><span>geospatial_vertical_resolution :</span></dt><dd>1.0</dd><dt><span>geospatial_vertical_positive :</span></dt><dd>up</dd><dt><span>identifier_product_doi :</span></dt><dd>DOI: 10.5285/e0f0bb80-ab44-2739-e053-6c86abc0289c</dd><dt><span>references :</span></dt><dd>DOI: 10.5285/e0f0bb80-ab44-2739-e053-6c86abc0289c</dd><dt><span>node_offset :</span></dt><dd>1.0</dd></dl></div></li></ul></div></div>"
      ],
      "text/plain": [
       "<xarray.Dataset>\n",
       "Dimensions:    (lon: 86400, lat: 43200)\n",
       "Coordinates:\n",
       "  * lon        (lon) float64 -180.0 -180.0 -180.0 -180.0 ... 180.0 180.0 180.0\n",
       "  * lat        (lat) float64 -90.0 -89.99 -89.99 -89.99 ... 89.99 89.99 90.0\n",
       "Data variables:\n",
       "    crs        |S1 ...\n",
       "    elevation  (lat, lon) int16 dask.array<chunksize=(1000, 1000), meta=np.ndarray>\n",
       "Attributes: (12/36)\n",
       "    title:                           The GEBCO_2022 Grid - a continuous terra...\n",
       "    summary:                         The GEBCO_2022 Grid is a continuous, glo...\n",
       "    keywords:                        BATHYMETRY/SEAFLOOR TOPOGRAPHY, DIGITAL ...\n",
       "    Conventions:                     CF-1.6, ACDD-1.3\n",
       "    id:                              DOI: 10.5285/e0f0bb80-ab44-2739-e053-6c8...\n",
       "    naming_authority:                https://dx.doi.org\n",
       "    ...                              ...\n",
       "    geospatial_vertical_units:       meters\n",
       "    geospatial_vertical_resolution:  1.0\n",
       "    geospatial_vertical_positive:    up\n",
       "    identifier_product_doi:          DOI: 10.5285/e0f0bb80-ab44-2739-e053-6c8...\n",
       "    references:                      DOI: 10.5285/e0f0bb80-ab44-2739-e053-6c8...\n",
       "    node_offset:                     1.0"
      ]
     },
     "execution_count": 6,
     "metadata": {},
     "output_type": "execute_result"
    }
   ],
   "source": [
    "import xarray as xr\n",
    "ds = xr.open_dataset('../../../../../../Data/GEBCO2022/Global/GEBCO_2022_sub_ice_topo.nc', chunks={'lon':1000, 'lat':1000})\n",
    "ds"
   ]
  },
  {
   "cell_type": "code",
   "execution_count": 7,
   "metadata": {},
   "outputs": [],
   "source": [
    "lon_select = ds.lon[np.logical_and(ds.lon >= 40, ds.lon <=53)]\n",
    "lat_select = ds.lat[np.logical_and(ds.lat >= -27, ds.lat <= -11)]\n",
    "ds_select = ds.sel(lon=lon_select, lat=lat_select)"
   ]
  },
  {
   "cell_type": "code",
   "execution_count": 8,
   "metadata": {},
   "outputs": [
    {
     "data": {
      "text/plain": [
       "<matplotlib.colorbar.Colorbar at 0x7feceb0ee390>"
      ]
     },
     "execution_count": 8,
     "metadata": {},
     "output_type": "execute_result"
    },
    {
     "data": {
      "image/png": "[encoded data removed]",
      "text/plain": [
       "<Figure size 432x288 with 2 Axes>"
      ]
     },
     "metadata": {
      "needs_background": "light"
     },
     "output_type": "display_data"
    }
   ],
   "source": [
    "# Plotting the selected data from where the interpolation will be done\n",
    "X, Y = np.meshgrid(ds_select.lon, ds_select.lat)\n",
    "Z = ds_select.elevation\n",
    "fig, ax = plt.subplots(subplot_kw={'projection':ccrs.PlateCarree()})\n",
    "pc = ax.pcolormesh(X, Y, Z)\n",
    "plt.colorbar(pc)"
   ]
  },
  {
   "cell_type": "code",
   "execution_count": 9,
   "metadata": {},
   "outputs": [],
   "source": [
    "# Creating the inpolating function\n",
    "# griddata function can also be used which does the create the interpolator\n",
    "# xy = np.vstack((X.flatten(), Y.flatten())).T\n",
    "# f = LinearNDInterpolator(points=xy, values=Z.values.flatten())"
   ]
  },
  {
   "cell_type": "code",
   "execution_count": 10,
   "metadata": {},
   "outputs": [],
   "source": [
    "# LinearNDInterpolator takes 3min, can it be done better using grid data?\n",
    "# No, griddata takes more time and RAM to do it\n",
    "# What would be the better solution?\n",
    "# from scipy.interpolate import griddata\n",
    "# griddata(xy, Z.values.flatten(), hgrid.xy)"
   ]
  },
  {
   "cell_type": "code",
   "execution_count": 11,
   "metadata": {},
   "outputs": [
    {
     "data": {
      "text/plain": [
       "array([-597.68747182, -558.29434964, -554.46512032, ..., -344.63404496,\n",
       "       -346.09431762, -483.45935177])"
      ]
     },
     "execution_count": 11,
     "metadata": {},
     "output_type": "execute_result"
    }
   ],
   "source": [
    "# For regular grid scipy.interpolate has a RegularGridInterpolator\n",
    "# The original data is (lat, lon) format, so we need to give the points in (lat, lon) tuple\n",
    "# Takes less than 0.5s!\n",
    "from scipy.interpolate import RegularGridInterpolator\n",
    "f = RegularGridInterpolator(points=(ds_select.lat, ds_select.lon), values=ds_select.elevation.values)\n",
    "f(hgrid.xy[:, [1, 0]])"
   ]
  },
  {
   "cell_type": "code",
   "execution_count": 12,
   "metadata": {},
   "outputs": [],
   "source": [
    "# Setting the depth value\n",
    "# Multiplied by -1 to make depth positive\n",
    "hgrid.data = np.atleast_2d(f(hgrid.xy[:, [1, 0]]) * -1).T"
   ]
  },
  {
   "cell_type": "code",
   "execution_count": 13,
   "metadata": {},
   "outputs": [
    {
     "data": {
      "image/png": "[encoded data removed]",
      "text/plain": [
       "<Figure size 432x288 with 2 Axes>"
      ]
     },
     "metadata": {
      "needs_background": "light"
     },
     "output_type": "display_data"
    }
   ],
   "source": [
    "fig, ax = plt.subplots(subplot_kw={'projection':ccrs.PlateCarree()})\n",
    "tc = ax.tricontourf(\n",
    "    hgrid.x, \n",
    "    hgrid.y, \n",
    "    hgrid.elems[:, 0:3]-1, \n",
    "    hgrid.data[:, 0], \n",
    "    levels=np.arange(-3000, 1501, 100))\n",
    "ax.tricontour(\n",
    "    hgrid.x, \n",
    "    hgrid.y, \n",
    "    hgrid.elems[:, 0:3]-1, \n",
    "    hgrid.data[:, 0], \n",
    "    levels=[0],\n",
    "    linewidths=0.5, \n",
    "    linestyles='--')\n",
    "# ax.triplot(\n",
    "#     hgrid.x, \n",
    "#     hgrid.y, \n",
    "#     hgrid.elems[:, 0:3]-1,\n",
    "#     linewidth=0.1,\n",
    "#     linestyle='--')\n",
    "ax.plot(\n",
    "    hgrid.open_bnds[1]['xy'][:, 0], \n",
    "    hgrid.open_bnds[1]['xy'][:, 1], \n",
    "    linestyle='--', \n",
    "    color='black')\n",
    "plt.colorbar(tc)\n",
    "plt.savefig('hgrid.png', dpi=150, bbox_inches='tight')"
   ]
  },
  {
   "cell_type": "code",
   "execution_count": 14,
   "metadata": {},
   "outputs": [],
   "source": [
    "hgrid.header = 'Madagascar 1km'\n",
    "hgrid.write('hgrid.gr3', overwrite=True)"
   ]
  },
  {
   "cell_type": "markdown",
   "metadata": {},
   "source": [
    "# bctides.in"
   ]
  },
  {
   "cell_type": "code",
   "execution_count": 15,
   "metadata": {},
   "outputs": [],
   "source": [
    "bctides = hgrid.get_bctides()"
   ]
  },
  {
   "cell_type": "code",
   "execution_count": 16,
   "metadata": {},
   "outputs": [],
   "source": [
    "from pycaz.schism.bc import consts\n",
    "\n",
    "from pycaz.tide.utide import utide_names\n",
    "from pycaz.tide.utide import utide_freqs\n",
    "from pycaz.tide.utide import nodal_factor\n",
    "\n",
    "start_date = pd.to_datetime('2018-01-01 00:00:00')\n",
    "rnday = 365 # days\n",
    "lat = -25\n",
    "\n",
    "available_consts, missing_consts = utide_names(consts)\n",
    "available_freqs, missing_freqs = utide_freqs(consts)\n",
    "\n",
    "t = [start_date, start_date + pd.to_timedelta(rnday, unit='d')]\n",
    "dict_nf = nodal_factor(t=t, consts=available_consts, lat=lat, correct_phase=False)\n",
    "\n",
    "dict_tidefr = {}\n",
    "\n",
    "for const in available_freqs:\n",
    "    dict_tidefr[const] = {\n",
    "        'amig': available_freqs[const]*2*np.pi/3600, # angular freq (rad/sec)\n",
    "        'ff':dict_nf[const]['nf'], # nodal factor (unitless)\n",
    "        'face':dict_nf[const]['ear'] # earth equilibrium argument (degrees)\n",
    "        }"
   ]
  },
  {
   "cell_type": "code",
   "execution_count": 17,
   "metadata": {},
   "outputs": [],
   "source": [
    "bctides.add_tidefr(dict_tidefr)"
   ]
  },
  {
   "cell_type": "code",
   "execution_count": 18,
   "metadata": {},
   "outputs": [
    {
     "name": "stdout",
     "output_type": "stream",
     "text": [
      "units are set to {'amp': 'cm', 'pha': 'degrees'}\n"
     ]
    }
   ],
   "source": [
    "from pycaz.tide.atlas import read_atlas\n",
    "fes2014_dir = '../../../../../../../Developments/Tide_Atlas/data/FES2014/fes2014b_elevation/'\n",
    "fes2014 = read_atlas(atlas_dir=fes2014_dir, lon180=False)"
   ]
  },
  {
   "cell_type": "code",
   "execution_count": 19,
   "metadata": {},
   "outputs": [
    {
     "data": {
      "text/plain": [
       "array([72.95037277, 72.95754107, 72.96012255, ..., 73.67323875,\n",
       "       73.35220345, 73.1180608 ])"
      ]
     },
     "execution_count": 19,
     "metadata": {},
     "output_type": "execute_result"
    }
   ],
   "source": [
    "from scipy.interpolate import RegularGridInterpolator\n",
    "ds = fes2014['M2'].amp\n",
    "dims = ds.dims\n",
    "f = RegularGridInterpolator(points=(ds[dims[0]], ds[dims[1]]), values=ds.values, method='linear')\n",
    "xy = pd.DataFrame(bctides.open_bnds[1].xy, columns=['lon', 'lat']).loc[:, dims].values\n",
    "f(xy)"
   ]
  },
  {
   "cell_type": "code",
   "execution_count": 20,
   "metadata": {},
   "outputs": [],
   "source": [
    "# Something is wrong with complex computation\n",
    "# fes2014_bnd_cp = fes2014.interp(xy=bctides.open_bnds[1].xy, method='complex')\n",
    "# np.sum(np.isnan(fes2014_bnd_cp['M2'].amp.values))"
   ]
  },
  {
   "cell_type": "code",
   "execution_count": 21,
   "metadata": {},
   "outputs": [
    {
     "name": "stdout",
     "output_type": "stream",
     "text": [
      "units are set to {'amp': 'cm', 'pha': 'degrees'}\n"
     ]
    },
    {
     "data": {
      "text/plain": [
       "34"
      ]
     },
     "execution_count": 21,
     "metadata": {},
     "output_type": "execute_result"
    }
   ],
   "source": [
    "fes2014_bnd_ln = fes2014.interp(xy=bctides.open_bnds[1].xy, method='linear')\n",
    "np.sum(np.isnan(fes2014_bnd_ln['M2'].amp.values))"
   ]
  },
  {
   "cell_type": "code",
   "execution_count": 22,
   "metadata": {},
   "outputs": [
    {
     "name": "stdout",
     "output_type": "stream",
     "text": [
      "units are set to {'amp': 'cm', 'pha': 'degrees'}\n"
     ]
    },
    {
     "data": {
      "text/plain": [
       "0"
      ]
     },
     "execution_count": 22,
     "metadata": {},
     "output_type": "execute_result"
    }
   ],
   "source": [
    "fes2014_bnd_nn = fes2014.interp(xy=bctides.open_bnds[1].xy, method='nearest')\n",
    "np.sum(np.isnan(fes2014_bnd_nn['M2'].amp.values))"
   ]
  },
  {
   "cell_type": "code",
   "execution_count": 23,
   "metadata": {},
   "outputs": [],
   "source": [
    "bnd_dict = {\n",
    "    const:np.vstack(\n",
    "        (\n",
    "            fes2014_bnd_nn[const].amp/100, # cm to meter \n",
    "            (fes2014_bnd_nn[const].pha)*(fes2014_bnd_nn[const].pha >=0 ) + (360 + fes2014_bnd_nn[const].pha)*(fes2014_bnd_nn[const].pha < 0 )\n",
    "        )).T for const in bctides.tidefr['const']\n",
    "}\n",
    "bctides.open_bnds[1]['iettype'] = 3\n",
    "bctides.open_bnds[1]['et'][3] = bnd_dict"
   ]
  },
  {
   "cell_type": "code",
   "execution_count": 24,
   "metadata": {},
   "outputs": [],
   "source": [
    "bctides.write(fname='bctides.in', replace=True)"
   ]
  },
  {
   "cell_type": "markdown",
   "metadata": {},
   "source": [
    "# vgrid.in"
   ]
  },
  {
   "cell_type": "markdown",
   "metadata": {},
   "source": [
    "# manning.gr3"
   ]
  },
  {
   "cell_type": "code",
   "execution_count": 25,
   "metadata": {},
   "outputs": [],
   "source": [
    "manning = hgrid.gr3\n",
    "manning.data = manning.data * 0 + 0.025\n",
    "manning.write('manning.gr3', overwrite=True)"
   ]
  },
  {
   "cell_type": "markdown",
   "metadata": {},
   "source": [
    "# sflux/"
   ]
  },
  {
   "cell_type": "code",
   "execution_count": 26,
   "metadata": {},
   "outputs": [],
   "source": [
    "def specific_humidity(T_dew, p):\n",
    "    \"\"\"\n",
    "    https://github.com/Unidata/MetPy/issues/791\n",
    "    \"\"\"\n",
    "    e0 = 6.113 #hPa\n",
    "    p_hpa = p / 100 #Pa->hPa\n",
    "    c_water = 5423\n",
    "    T0 = 273.15 #K\n",
    "\n",
    "    q = (622*e0/p)*np.exp(c_water*(T_dew - T0)/(T_dew * T0)) # g/kg\n",
    "    \n",
    "    q = q/1000 # kg/kg\n",
    "    return(q)"
   ]
  },
  {
   "cell_type": "code",
   "execution_count": 62,
   "metadata": {},
   "outputs": [
    {
     "name": "stdout",
     "output_type": "stream",
     "text": [
      "0 days 01:00:00\n"
     ]
    },
    {
     "name": "stderr",
     "output_type": "stream",
     "text": [
      "100%|██████████| 8760/8760 [02:18<00:00, 63.31it/s]\n"
     ]
    }
   ],
   "source": [
    "from tqdm import tqdm\n",
    "from pycaz.schism.sflux import Sflux\n",
    "from pycaz.core.grid import Grid\n",
    "import dask\n",
    "\n",
    "era5_dir = '/run/media/khan/BandSOS/Cyclone_Rainfall/ERA5/'\n",
    "ds = xr.open_dataset(os.path.join(era5_dir, 'era_swio_2018.nc'))\n",
    "sflux_extent = hgrid.extent() + [-0.5, 0.5, -0.5, 0.5]\n",
    "\n",
    "lon_select = ds.longitude[np.logical_and(ds.longitude >= sflux_extent[0], ds.longitude <= sflux_extent[1])].values\n",
    "lat_select = ds.latitude[np.logical_and(ds.latitude >= sflux_extent[2], ds.latitude <= sflux_extent[3])].values[::-1] # increasing bottom to top\n",
    "time_select = ds.time[np.logical_and(ds.time >= pd.to_datetime('2018-01-01 00:00:00'), ds.time <= pd.to_datetime('2019-01-01 00:00:00'))]\n",
    "sflux_grid = Grid(x=lon_select, y=lat_select)\n",
    "sflux_air = Sflux(grid=sflux_grid, basedate=pd.to_datetime(ds.time.values[0]), sflux_type='air', nstep=24*30, path='./sflux')\n",
    "sflux_prc = Sflux(grid=sflux_grid, basedate=pd.to_datetime(ds.time.values[0]), sflux_type='prc', nstep=24*30, path='./sflux')\n",
    "sflux_rad = Sflux(grid=sflux_grid, basedate=pd.to_datetime(ds.time.values[0]), sflux_type='rad', nstep=24*30, path='./sflux')\n",
    "\n",
    "dt = pd.Timedelta(time_select.diff(dim='time').values[0])\n",
    "print(dt)\n",
    "\n",
    "for timestep in tqdm(time_select.values):\n",
    "    # sflux_air\n",
    "    uwind = ds.u10.sel(longitude=lon_select, latitude=lat_select, time=timestep)\n",
    "    vwind = ds.v10.sel(longitude=lon_select, latitude=lat_select, time=timestep)\n",
    "    prmsl = ds.msl.sel(longitude=lon_select, latitude=lat_select, time=timestep)\n",
    "    stmp = ds.t2m.sel(longitude=lon_select, latitude=lat_select, time=timestep)\n",
    "    stfh = specific_humidity(\n",
    "        T_dew=ds.d2m.sel(longitude=lon_select, latitude=lat_select, time=timestep),\n",
    "        p=prmsl\n",
    "    )\n",
    "\n",
    "    flux_air = {\n",
    "        'uwind':uwind,\n",
    "        'vwind':vwind,\n",
    "        'prmsl':prmsl,\n",
    "        'stmp':stmp,\n",
    "        'spfh':stfh\n",
    "    }\n",
    "    \n",
    "    sflux_air.write(at=pd.to_datetime(timestep), flux=flux_air)\n",
    "\n",
    "    # sflux_prc\n",
    "    prate = ds.mtpr.sel(longitude=lon_select, latitude=lat_select, time=timestep)\n",
    "    flux_prc = {\n",
    "        'prate':prate\n",
    "    }\n",
    "\n",
    "    sflux_prc.write(at=pd.to_datetime(timestep), flux=flux_prc)\n",
    "\n",
    "    # sflux_rad\n",
    "    dlwrf = ds.msdwlwrf.sel(longitude=lon_select, latitude=lat_select, time=timestep)\n",
    "    dswrf = ds.msdwswrf.sel(longitude=lon_select, latitude=lat_select, time=timestep)\n",
    "    flux_rad = {\n",
    "        'dlwrf':dlwrf,\n",
    "        'dswrf':dswrf\n",
    "    }\n",
    "\n",
    "    sflux_rad.write(at=pd.to_datetime(timestep), flux=flux_rad)\n",
    "\n",
    "sflux_air.write(at=pd.to_datetime(timestep) + dt, flux=flux_air)\n",
    "sflux_prc.write(at=pd.to_datetime(timestep) + dt, flux=flux_prc)\n",
    "sflux_rad.write(at=pd.to_datetime(timestep) + dt, flux=flux_rad)\n",
    "\n",
    "sflux_air.write(at=pd.to_datetime(timestep) + dt + dt, flux=flux_air)\n",
    "sflux_prc.write(at=pd.to_datetime(timestep) + dt + dt, flux=flux_prc)\n",
    "sflux_rad.write(at=pd.to_datetime(timestep) + dt + dt, flux=flux_rad)\n",
    "\n",
    "sflux_air.finish()\n",
    "sflux_prc.finish()\n",
    "sflux_rad.finish()\n",
    "\n",
    "sflux_air.sfluxtxt(dt=dt)\n",
    "sflux_prc.sfluxtxt(dt=dt) # does not actually change anything\n",
    "sflux_rad.sfluxtxt(dt=dt) # does not actually change anything"
   ]
  },
  {
   "cell_type": "markdown",
   "metadata": {},
   "source": [
    "# windrot_geo2proj"
   ]
  },
  {
   "cell_type": "code",
   "execution_count": null,
   "metadata": {},
   "outputs": [],
   "source": [
    "windrot_geo2proj = hgrid.gr3\n",
    "windrot_geo2proj.data = windrot_geo2proj.data * 0\n",
    "windrot_geo2proj.write('windrot_geo2proj.gr3', overwrite=True)"
   ]
  },
  {
   "cell_type": "markdown",
   "metadata": {},
   "source": [
    "# elev.ic"
   ]
  },
  {
   "cell_type": "markdown",
   "metadata": {},
   "source": [
    "Creating the elev.ic was difficult due to the way the gr3 data is currently handled. I am thinking that it is probably not a good idea to hold hgrid or gr3 data the way I am currently holding. It is probably more useful to create a data object with multiple accessor."
   ]
  },
  {
   "cell_type": "code",
   "execution_count": 51,
   "metadata": {},
   "outputs": [],
   "source": [
    "# threshold\n",
    "elev_ic = hgrid.gr3.copy()\n",
    "elev_ic.data = (elev_ic.data * 0)*(elev_ic.data >= 0) + (elev_ic.data * -1 - 0.01)*(elev_ic.data < 0)\n",
    "elev_ic.write('elev.ic', overwrite=True)"
   ]
  },
  {
   "cell_type": "markdown",
   "metadata": {},
   "source": [
    "# station.in"
   ]
  },
  {
   "cell_type": "code",
   "execution_count": null,
   "metadata": {},
   "outputs": [],
   "source": []
  }
 ],
 "metadata": {
  "kernelspec": {
   "display_name": "pycaz",
   "language": "python",
   "name": "python3"
  },
  "language_info": {
   "codemirror_mode": {
    "name": "ipython",
    "version": 3
   },
   "file_extension": ".py",
   "mimetype": "text/x-python",
   "name": "python",
   "nbconvert_exporter": "python",
   "pygments_lexer": "ipython3",
   "version": "3.7.11"
  }
 },
 "nbformat": 4,
 "nbformat_minor": 2
}
