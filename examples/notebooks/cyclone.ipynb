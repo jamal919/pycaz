{
 "cells": [
  {
   "cell_type": "code",
   "execution_count": 2,
   "metadata": {},
   "outputs": [],
   "source": [
    "from pycaz.cyclone.track import Record\n",
    "from pycaz.cyclone.jtwc import read_jtwc\n",
    "\n",
    "import cartopy\n",
    "import numpy as np\n",
    "import matplotlib.pyplot as plt\n",
    "from matplotlib.ticker import MultipleLocator"
   ]
  },
  {
   "cell_type": "markdown",
   "metadata": {},
   "source": [
    "First the cyclone advisory can be hard to read, and sometimes oddly formatted. First implemented function is in schism.io named read_jtwc. It is designed to read any JTWC Best track advisory file and immidiately plot."
   ]
  },
  {
   "cell_type": "code",
   "execution_count": 3,
   "metadata": {},
   "outputs": [
    {
     "data": {
      "text/plain": [
       "<matplotlib.image.AxesImage at 0x7f8fbe019890>"
      ]
     },
     "execution_count": 3,
     "metadata": {},
     "output_type": "execute_result"
    },
    {
     "data": {
      "image/png": "[encoded data removed]",
      "text/plain": [
       "<Figure size 432x288 with 1 Axes>"
      ]
     },
     "metadata": {
      "needs_background": "light"
     },
     "output_type": "display_data"
    }
   ],
   "source": [
    "sidr = read_jtwc('./resources/bio062007.txt')\n",
    "ax = sidr.plot() # Geoaxes object\n",
    "ax.set_xlim([83, 97])\n",
    "ax.set_xticks(np.arange(84, 97, 2))\n",
    "ax.set_xticklabels(np.arange(84, 97, 2))\n",
    "ax.xaxis.set_minor_locator(MultipleLocator(1))\n",
    "ax.set_ylim([9, 27])\n",
    "ax.set_yticks(np.arange(10, 27, 2))\n",
    "ax.set_yticklabels(np.arange(10, 27, 2))\n",
    "ax.yaxis.set_minor_locator(MultipleLocator(1))\n",
    "ax.add_feature(cartopy.feature.COASTLINE)\n",
    "ax.add_feature(cartopy.feature.BORDERS)\n",
    "ax.stock_img()"
   ]
  },
  {
   "cell_type": "markdown",
   "metadata": {},
   "source": [
    "Each record in the advisory file is loaded as a Record object. The records can be easily accessed using the time index and the resulting value will be a sliced track."
   ]
  },
  {
   "cell_type": "code",
   "execution_count": 4,
   "metadata": {},
   "outputs": [
    {
     "data": {
      "text/plain": [
       "DatetimeIndex(['2007-11-10 06:00:00', '2007-11-10 12:00:00',\n",
       "               '2007-11-10 18:00:00', '2007-11-11 00:00:00',\n",
       "               '2007-11-11 06:00:00', '2007-11-11 12:00:00',\n",
       "               '2007-11-11 18:00:00', '2007-11-12 00:00:00',\n",
       "               '2007-11-12 06:00:00', '2007-11-12 12:00:00',\n",
       "               '2007-11-12 18:00:00', '2007-11-13 00:00:00',\n",
       "               '2007-11-13 06:00:00', '2007-11-13 12:00:00',\n",
       "               '2007-11-13 18:00:00', '2007-11-14 00:00:00',\n",
       "               '2007-11-14 06:00:00', '2007-11-14 12:00:00',\n",
       "               '2007-11-14 18:00:00', '2007-11-15 00:00:00',\n",
       "               '2007-11-15 06:00:00', '2007-11-15 12:00:00',\n",
       "               '2007-11-15 18:00:00', '2007-11-16 00:00:00'],\n",
       "              dtype='datetime64[ns]', freq=None)"
      ]
     },
     "execution_count": 4,
     "metadata": {},
     "output_type": "execute_result"
    }
   ],
   "source": [
    "# Timeindices can be looked into using timeindex attribute\n",
    "sidr.timeindex"
   ]
  },
  {
   "cell_type": "code",
   "execution_count": 5,
   "metadata": {},
   "outputs": [
    {
     "data": {
      "text/plain": [
       "DatetimeIndex(['2007-11-11 00:00:00', '2007-11-11 06:00:00',\n",
       "               '2007-11-11 12:00:00', '2007-11-11 18:00:00',\n",
       "               '2007-11-12 00:00:00', '2007-11-12 06:00:00',\n",
       "               '2007-11-12 12:00:00'],\n",
       "              dtype='datetime64[ns]', freq=None)"
      ]
     },
     "execution_count": 5,
     "metadata": {},
     "output_type": "execute_result"
    }
   ],
   "source": [
    "# Slicing takes slice input\n",
    "sidr[3:10].timeindex"
   ]
  },
  {
   "cell_type": "code",
   "execution_count": 6,
   "metadata": {},
   "outputs": [
    {
     "data": {
      "text/plain": [
       "True"
      ]
     },
     "execution_count": 6,
     "metadata": {},
     "output_type": "execute_result"
    }
   ],
   "source": [
    "# Check if a record exists\n",
    "\n",
    "'2007-11-12 00:00:00' in sidr"
   ]
  },
  {
   "cell_type": "code",
   "execution_count": 7,
   "metadata": {},
   "outputs": [
    {
     "data": {
      "text/plain": [
       "False"
      ]
     },
     "execution_count": 7,
     "metadata": {},
     "output_type": "execute_result"
    }
   ],
   "source": [
    "'2007-11-12 01:00:00' in sidr"
   ]
  },
  {
   "cell_type": "code",
   "execution_count": 8,
   "metadata": {},
   "outputs": [],
   "source": [
    "# The record at a particular time is accessed using interpolate method\n",
    "s = sidr.interpolate('2007-11-12 00:00:00')"
   ]
  },
  {
   "cell_type": "code",
   "execution_count": 9,
   "metadata": {},
   "outputs": [
    {
     "data": {
      "text/plain": [
       "{'timestamp': Timestamp('2007-11-12 00:00:00'),\n",
       " 'lon': 90.8,\n",
       " 'lat': 10.4,\n",
       " 'mslp': 97800.0,\n",
       " 'vmax': 30.866666666666667,\n",
       " 'rmax': 46300.025,\n",
       " 'ustorm': -2.023971515495947,\n",
       " 'vstorm': 1.543333333333328,\n",
       " 'vinfo': array([17.49111111, 25.72222222]),\n",
       " 'radinfo': array([[111120.06 , 101860.055, 101860.055, 111120.06 ],\n",
       "        [ 55560.03 ,  46300.025,  46300.025,  55560.03 ]])}"
      ]
     },
     "execution_count": 9,
     "metadata": {},
     "output_type": "execute_result"
    }
   ],
   "source": [
    "# Each record is a extended dictionary object\n",
    "s"
   ]
  },
  {
   "cell_type": "code",
   "execution_count": 10,
   "metadata": {},
   "outputs": [
    {
     "data": {
      "text/plain": [
       "(90.8, 10.4, Timestamp('2007-11-12 00:00:00'))"
      ]
     },
     "execution_count": 10,
     "metadata": {},
     "output_type": "execute_result"
    }
   ],
   "source": [
    "s['lon'], s['lat'], s['timestamp']"
   ]
  },
  {
   "cell_type": "code",
   "execution_count": 11,
   "metadata": {},
   "outputs": [
    {
     "data": {
      "text/plain": [
       "{'timestamp': Timestamp('2010-11-12 00:00:00'),\n",
       " 'lon': 90.1,\n",
       " 'lat': 12.5,\n",
       " 'mslp': 100000,\n",
       " 'vmax': 17,\n",
       " 'rmax': nan,\n",
       " 'vinfo': nan,\n",
       " 'radinfo': nan,\n",
       " 'ustorm': nan,\n",
       " 'vstorm': nan}"
      ]
     },
     "execution_count": 11,
     "metadata": {},
     "output_type": "execute_result"
    }
   ],
   "source": [
    "# timestamp, lon, lat, mslp, vmax are mendatory fields\n",
    "# mslp and vmax can be nan value\n",
    "# Can br created through a call to Record object\n",
    "\n",
    "t = Record(timestamp='2010-11-12 00:00:00', lon=90.1, lat=12.5, mslp=100000, vmax=17)\n",
    "t"
   ]
  },
  {
   "cell_type": "code",
   "execution_count": 18,
   "metadata": {},
   "outputs": [
    {
     "data": {
      "text/plain": [
       "{'timestamp': Timestamp('2007-11-15 00:00:00'),\n",
       " 'lon': 89.2,\n",
       " 'lat': 17.8,\n",
       " 'mslp': 91800.0,\n",
       " 'vmax': 72.02222222222223,\n",
       " 'rmax': 27780.015,\n",
       " 'ustorm': 0.0,\n",
       " 'vstorm': 8.231111111111101,\n",
       " 'vinfo': array([17.49111111, 25.72222222, 32.92444444]),\n",
       " 'radinfo': array([[287060.155, 314840.17 , 203720.11 , 222240.12 ],\n",
       "        [148160.08 , 157420.085, 148160.08 , 138900.075],\n",
       "        [111120.06 , 111120.06 ,  92600.05 , 101860.055]]),\n",
       " 'fvmax': <scipy.interpolate.interpolate.interp1d at 0x7f8fbbc73d70>,\n",
       " 'fvinfo': array([<scipy.interpolate.interpolate.interp1d object at 0x7f8fbb7f00b0>,\n",
       "        <scipy.interpolate.interpolate.interp1d object at 0x7f8fbb7f0890>,\n",
       "        <scipy.interpolate.interpolate.interp1d object at 0x7f8fbb845dd0>],\n",
       "       dtype=object),\n",
       " 'fradinfo': array([<scipy.interpolate.interpolate.interp1d object at 0x7f8fbbc73f50>,\n",
       "        <scipy.interpolate.interpolate.interp1d object at 0x7f8fbb83bad0>,\n",
       "        <scipy.interpolate.interpolate.interp1d object at 0x7f8fbbcf57d0>],\n",
       "       dtype=object)}"
      ]
     },
     "execution_count": 18,
     "metadata": {},
     "output_type": "execute_result"
    }
   ],
   "source": [
    "# It implements function to change it to 10m level to boundary layer\n",
    "t = sidr.interpolate('2007-11-15 00:00:00')\n",
    "t.gen_radial_fields(fraction=0.56, angle=19.2, swrf=0.9)\n",
    "t"
   ]
  },
  {
   "cell_type": "code",
   "execution_count": 24,
   "metadata": {},
   "outputs": [
    {
     "data": {
      "text/plain": [
       "{'timestamp': Timestamp('2007-11-15 00:00:00'),\n",
       " 'lon': 89.2,\n",
       " 'lat': 17.8,\n",
       " 'mslp': 91800.0,\n",
       " 'vmax': 72.02222222222223,\n",
       " 'rmax': 27780.015,\n",
       " 'ustorm': 0.0,\n",
       " 'vstorm': 8.231111111111101,\n",
       " 'vinfo': array([17.49111111, 25.72222222, 32.92444444]),\n",
       " 'radinfo': array([[287060.155, 314840.17 , 203720.11 , 222240.12 ],\n",
       "        [148160.08 , 157420.085, 148160.08 , 138900.075],\n",
       "        [111120.06 , 111120.06 ,  92600.05 , 101860.055]]),\n",
       " 'fvmax': <scipy.interpolate.interpolate.interp1d at 0x7f8fbb855110>,\n",
       " 'fvinfo': array([<scipy.interpolate.interpolate.interp1d object at 0x7f8fbca4ba70>,\n",
       "        <scipy.interpolate.interpolate.interp1d object at 0x7f8fbbc73d70>,\n",
       "        <scipy.interpolate.interpolate.interp1d object at 0x7f8fbb7f68f0>],\n",
       "       dtype=object),\n",
       " 'fradinfo': array([<scipy.interpolate.interpolate.interp1d object at 0x7f8fbca4b5f0>,\n",
       "        <scipy.interpolate.interpolate.interp1d object at 0x7f8fbb7f6890>,\n",
       "        <scipy.interpolate.interpolate.interp1d object at 0x7f8fbb7fa170>],\n",
       "       dtype=object),\n",
       " 'frmax': array([<scipy.interpolate.interpolate.interp1d object at 0x7f8fbb855230>,\n",
       "        <scipy.interpolate.interpolate.interp1d object at 0x7f8fbb855710>,\n",
       "        <scipy.interpolate.interpolate.interp1d object at 0x7f8fbb855770>],\n",
       "       dtype=object),\n",
       " 'rmax_method': array([], dtype=float64)}"
      ]
     },
     "execution_count": 24,
     "metadata": {},
     "output_type": "execute_result"
    }
   ],
   "source": [
    "t.calc_rmax(methods=['H80', 'E11'], vlimit=[100, np.inf])"
   ]
  },
  {
   "cell_type": "code",
   "execution_count": 16,
   "metadata": {
    "tags": [
     "outputPrepend",
     "outputPrepend",
     "outputPrepend",
     "outputPrepend",
     "outputPrepend",
     "outputPrepend",
     "outputPrepend"
    ]
   },
   "outputs": [
    {
     "data": {
      "text/plain": [
       "<matplotlib.legend.Legend at 0x7f8fbb885a10>"
      ]
     },
     "execution_count": 16,
     "metadata": {},
     "output_type": "execute_result"
    },
    {
     "data": {
      "image/png": "[encoded data removed]",
      "text/plain": [
       "<Figure size 432x288 with 1 Axes>"
      ]
     },
     "metadata": {
      "needs_background": "light"
     },
     "output_type": "display_data"
    }
   ],
   "source": [
    "# Comparison between different methods\n",
    "from matplotlib import rc\n",
    "rc('font',**{'family':'sans-serif','sans-serif':['Helvetica']})\n",
    "rc('text', usetex=True)\n",
    "\n",
    "fig, ax = plt.subplots()\n",
    "r = np.arange(0, 20, 0.1)\n",
    "x = r*t['rmax']\n",
    "y1 = np.array([t.calculate_wind(at=(i, 0), methods=['M16'], rmax_frac=[np.inf])[1] for i in x])/t['vmax']/0.88\n",
    "y2 = np.array([t.calculate_wind(at=(i, 0), methods=['E11'], rmax_frac=[np.inf])[1] for i in x])/t['vmax']/0.88\n",
    "y3 = np.array([t.calculate_wind(at=(i, 0), methods=['E04'], rmax_frac=[np.inf])[1] for i in x])/t['vmax']/0.88\n",
    "y4 = np.array([t.calculate_wind(at=(i, 0), methods=['J92'], rmax_frac=[np.inf])[1] for i in x])/t['vmax']/0.88\n",
    "y5 = np.array([t.calculate_wind(at=(i, 0), methods=['W06'], rmax_frac=[np.inf])[1] for i in x])/t['vmax']/0.88\n",
    "y6 = np.array([t.calculate_wind(at=(i, 0), methods=['H80'], rmax_frac=[np.inf])[1] for i in x])/t['vmax']/0.88\n",
    "y7 = np.array([t.calculate_wind(at=(i, 0), methods=['H80c'], rmax_frac=[np.inf])[1] for i in x])/t['vmax']/0.88\n",
    "ax.plot(r, y1, label='M16')\n",
    "ax.plot(r, y2, label='E11')\n",
    "ax.plot(r, y3, label='E04')\n",
    "ax.plot(r, y4, label='J92')\n",
    "ax.plot(r, y5, label='W06')\n",
    "ax.plot(r, y6, label='H80')\n",
    "ax.plot(r, y7, label='H80c')\n",
    "ax.set_xlabel('$r/R_m$', usetex=True)\n",
    "ax.set_ylabel('$v/V_m$', usetex=True)\n",
    "ax.set_yticks(np.arange(0, 1.1, 0.1))\n",
    "ax.set_xlim([0, 20])\n",
    "ax.legend()"
   ]
  },
  {
   "cell_type": "code",
   "execution_count": null,
   "metadata": {},
   "outputs": [],
   "source": []
  }
 ],
 "metadata": {
  "kernelspec": {
   "display_name": "Python 3",
   "name": "python3"
  },
  "language_info": {
   "codemirror_mode": {
    "name": "ipython",
    "version": 3
   },
   "file_extension": ".py",
   "mimetype": "text/x-python",
   "name": "python",
   "nbconvert_exporter": "python",
   "pygments_lexer": "ipython3",
   "version": "3.7.11"
  },
  "orig_nbformat": 2
 },
 "nbformat": 4,
 "nbformat_minor": 2
}
