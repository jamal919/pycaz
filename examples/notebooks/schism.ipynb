{
 "cells": [
  {
   "cell_type": "code",
   "execution_count": 1,
   "metadata": {},
   "outputs": [
    {
     "data": {
      "text/plain": [
       "'0.1.post14+git.367334c5.dirty'"
      ]
     },
     "execution_count": 1,
     "metadata": {},
     "output_type": "execute_result"
    }
   ],
   "source": [
    "import pycaz\n",
    "pycaz.__version__"
   ]
  },
  {
   "cell_type": "code",
   "execution_count": 2,
   "metadata": {},
   "outputs": [],
   "source": [
    "# A hgrid file can be read using the read_hgrid function\n",
    "# It returns a Hgrid object, which essentially a dictionary\n",
    "from pycaz.schism.hgrid import read_hgrid\n",
    "fname_gr3 = '/home/khan/MEGA/Models/SCHISM/Toy_V1/hgrid.gr3'\n",
    "hgrid = read_hgrid(fname_gr3)"
   ]
  },
  {
   "cell_type": "code",
   "execution_count": 3,
   "metadata": {},
   "outputs": [
    {
     "data": {
      "text/plain": [
       "dict_keys(['header', 'nelem', 'nnode', 'nodes', 'elemtype', 'elems', 'elem_FillValue', 'open_bnds', 'land_bnds'])"
      ]
     },
     "execution_count": 3,
     "metadata": {},
     "output_type": "execute_result"
    }
   ],
   "source": [
    "# The dictionary has the following fields\n",
    "# only header, nelem, nnode, nodes are mandatory to be a gr3 file\n",
    "# for hgrid all fields are mandatory\n",
    "hgrid.keys()"
   ]
  },
  {
   "cell_type": "code",
   "execution_count": 4,
   "metadata": {},
   "outputs": [
    {
     "name": "stdout",
     "output_type": "stream",
     "text": [
      "header <class 'str'>\n",
      "nelem <class 'int'>\n",
      "nnode <class 'int'>\n",
      "nodes <class 'numpy.ndarray'>\n",
      "elemtype <class 'numpy.ndarray'>\n",
      "elems <class 'numpy.ndarray'>\n",
      "elem_FillValue <class 'int'>\n",
      "open_bnds <class 'dict'>\n",
      "land_bnds <class 'dict'>\n"
     ]
    }
   ],
   "source": [
    "for item in hgrid:\n",
    "    print(item, type(hgrid[item]))"
   ]
  },
  {
   "cell_type": "code",
   "execution_count": 5,
   "metadata": {},
   "outputs": [
    {
     "name": "stdout",
     "output_type": "stream",
     "text": [
      "Lite Bay of Bengal\n",
      "50083 nodes\n",
      "98810 elements of hybrid type\n",
      "1 open, 3 land boundaries\n"
     ]
    }
   ],
   "source": [
    "hgrid.describe()"
   ]
  },
  {
   "cell_type": "code",
   "execution_count": 6,
   "metadata": {},
   "outputs": [],
   "source": [
    "# Following are the gr3 related properties that are exposed to hgrid file also"
   ]
  },
  {
   "cell_type": "code",
   "execution_count": 7,
   "metadata": {},
   "outputs": [
    {
     "data": {
      "text/plain": [
       "'i34'"
      ]
     },
     "execution_count": 7,
     "metadata": {},
     "output_type": "execute_result"
    }
   ],
   "source": [
    "hgrid.meshtype"
   ]
  },
  {
   "cell_type": "code",
   "execution_count": 8,
   "metadata": {},
   "outputs": [
    {
     "data": {
      "text/plain": [
       "'Lite Bay of Bengal'"
      ]
     },
     "execution_count": 8,
     "metadata": {},
     "output_type": "execute_result"
    }
   ],
   "source": [
    "hgrid.header"
   ]
  },
  {
   "cell_type": "code",
   "execution_count": 9,
   "metadata": {},
   "outputs": [
    {
     "data": {
      "text/plain": [
       "array([[ 1.00000000e+00,  8.45009970e+01,  1.87289998e+01,\n",
       "         9.01652807e+00],\n",
       "       [ 2.00000000e+00,  8.45196223e+01,  1.87291073e+01,\n",
       "         1.56017661e+01],\n",
       "       [ 3.00000000e+00,  8.45382485e+01,  1.87292130e+01,\n",
       "         2.25984861e+01],\n",
       "       ...,\n",
       "       [ 5.00810000e+04,  9.06483561e+01,  2.34136799e+01,\n",
       "        -7.02469535e+00],\n",
       "       [ 5.00820000e+04,  9.06664018e+01,  2.34206698e+01,\n",
       "        -5.70435852e+00],\n",
       "       [ 5.00830000e+04,  9.06857863e+01,  2.34191311e+01,\n",
       "        -6.76906065e+00]])"
      ]
     },
     "execution_count": 9,
     "metadata": {},
     "output_type": "execute_result"
    }
   ],
   "source": [
    "# array or node id (int) -> float, x, y, depth (or data)\n",
    "hgrid.nodes"
   ]
  },
  {
   "cell_type": "code",
   "execution_count": 10,
   "metadata": {},
   "outputs": [
    {
     "data": {
      "text/plain": [
       "array([1.0000e+00, 2.0000e+00, 3.0000e+00, ..., 5.0081e+04, 5.0082e+04,\n",
       "       5.0083e+04])"
      ]
     },
     "execution_count": 10,
     "metadata": {},
     "output_type": "execute_result"
    }
   ],
   "source": [
    "# to only have the node id, the first column\n",
    "hgrid.nodeid"
   ]
  },
  {
   "cell_type": "code",
   "execution_count": 11,
   "metadata": {},
   "outputs": [
    {
     "data": {
      "text/plain": [
       "(array([84.50099702, 84.51962235, 84.5382485 , ..., 90.64835614,\n",
       "        90.66640184, 90.68578627]),\n",
       " array([18.72899978, 18.72910734, 18.72921302, ..., 23.41367987,\n",
       "        23.42066975, 23.41913114]),\n",
       " array([[ 9.01652807],\n",
       "        [15.60176609],\n",
       "        [22.59848609],\n",
       "        ...,\n",
       "        [-7.02469535],\n",
       "        [-5.70435852],\n",
       "        [-6.76906065]]))"
      ]
     },
     "execution_count": 11,
     "metadata": {},
     "output_type": "execute_result"
    }
   ],
   "source": [
    "# similarly\n",
    "hgrid.x, hgrid.y, hgrid.data"
   ]
  },
  {
   "cell_type": "code",
   "execution_count": 12,
   "metadata": {},
   "outputs": [
    {
     "data": {
      "text/plain": [
       "1"
      ]
     },
     "execution_count": 12,
     "metadata": {},
     "output_type": "execute_result"
    }
   ],
   "source": [
    "# check the number of data columns\n",
    "hgrid.ndata"
   ]
  },
  {
   "cell_type": "code",
   "execution_count": 13,
   "metadata": {},
   "outputs": [],
   "source": [
    "# you can set the data directly\n",
    "# for example following can create a manning file with 0.02 in deep and 0.013 in nearshore\n",
    "# but better to use Gr3 object for this\n",
    "hgrid.data = 0.02*(hgrid.data > 20) + 0.013*(hgrid.data <= 20)"
   ]
  },
  {
   "cell_type": "code",
   "execution_count": 14,
   "metadata": {},
   "outputs": [
    {
     "data": {
      "text/plain": [
       "array([[0.013],\n",
       "       [0.013],\n",
       "       [0.02 ],\n",
       "       ...,\n",
       "       [0.013],\n",
       "       [0.013],\n",
       "       [0.013]])"
      ]
     },
     "execution_count": 14,
     "metadata": {},
     "output_type": "execute_result"
    }
   ],
   "source": [
    "hgrid.data"
   ]
  },
  {
   "cell_type": "code",
   "execution_count": 15,
   "metadata": {},
   "outputs": [
    {
     "data": {
      "text/plain": [
       "('Copy header', 'Lite Bay of Bengal')"
      ]
     },
     "execution_count": 15,
     "metadata": {},
     "output_type": "execute_result"
    }
   ],
   "source": [
    "# use copy to create a copy, \n",
    "hgrid2 = hgrid.copy()\n",
    "hgrid2.header = 'Copy header'\n",
    "hgrid2.header, hgrid.header"
   ]
  },
  {
   "cell_type": "code",
   "execution_count": 16,
   "metadata": {},
   "outputs": [
    {
     "data": {
      "text/plain": [
       "('Test', 'Test')"
      ]
     },
     "execution_count": 16,
     "metadata": {},
     "output_type": "execute_result"
    }
   ],
   "source": [
    "# otherwise equality will give the reference to old object\n",
    "hgrid3 = hgrid2\n",
    "hgrid3.header = 'Test'\n",
    "hgrid3.header, hgrid2.header"
   ]
  },
  {
   "cell_type": "code",
   "execution_count": 19,
   "metadata": {},
   "outputs": [],
   "source": [
    "# the grid can be extracted to a xarray netcdf object\n",
    "ds = hgrid.to_xarray()\n",
    "\n",
    "# the all other xarray methods can be used directly\n",
    "ds.to_netcdf('hgrid.nc')"
   ]
  }
 ],
 "metadata": {
  "interpreter": {
   "hash": "48aa19237820ae79f61c50ef1be51521ec51736ffc7f3b65f3399a9ec2586193"
  },
  "kernelspec": {
   "display_name": "Python 3.8.8 ('base')",
   "language": "python",
   "name": "python3"
  },
  "language_info": {
   "codemirror_mode": {
    "name": "ipython",
    "version": 3
   },
   "file_extension": ".py",
   "mimetype": "text/x-python",
   "name": "python",
   "nbconvert_exporter": "python",
   "pygments_lexer": "ipython3",
   "version": "3.7.11"
  },
  "orig_nbformat": 4
 },
 "nbformat": 4,
 "nbformat_minor": 2
}
